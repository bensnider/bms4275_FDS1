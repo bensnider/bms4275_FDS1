{
 "cells": [
  {
   "cell_type": "markdown",
   "id": "b71af9f1",
   "metadata": {},
   "source": [
    "# This is a notebook for homework used to practice the class workflow\n",
    "\n",
    "You are asked to add your information below:\n",
    "\n",
    "Name: Ben\n",
    "\n",
    "Surname: Snider\n",
    "\n",
    "EID: bms4275"
   ]
  },
  {
   "cell_type": "markdown",
   "id": "a758306e",
   "metadata": {},
   "source": [
    "Create a table with 5 rows and 3 columns using Markdown.\n",
    "\n",
    "Column 1 should code for artist name\n",
    "Column 2 should code for a song title\n",
    "Column 3 should reason you like the song.\n",
    "\n",
    "Please fill out the table with your top 5 artists and their respective top songs and an note explaining why/what you like of the song and artist.\n",
    "\n",
    "###### Hint: Avoid say \"because they are awesome!\" We really are interested in learing what you guys like.\n"
   ]
  },
  {
   "cell_type": "markdown",
   "id": "544a1f44",
   "metadata": {},
   "source": [
    "| Artist Name | Song Title | Why I like them |\n",
    "| ----------- | ---------- | ------------- |\n",
    "| Julie Byrne | All the Land Glimmered Beneath | The song and artist make me feel very peaceful |\n",
    "| The Strokes | The Adults are Talking | I think this artist is really catchy and the song makes me feel like floating |\n",
    "| Arlo Parks  | Eugene     | The song makes me sad in a happy way, and the artist is a fantastic writer |\n",
    "| The Alabama Shakes | Sound and Color | The song reminds me to just listen, and I think the artist captures life really well |\n",
    "| Thee Sacred Souls | Easier Said Than Done | I really like the artist's style, and the song makes me happy in a sad way |\n"
   ]
  }
 ],
 "metadata": {
  "kernelspec": {
   "display_name": "Python 3 (ipykernel)",
   "language": "python",
   "name": "python3"
  },
  "language_info": {
   "codemirror_mode": {
    "name": "ipython",
    "version": 3
   },
   "file_extension": ".py",
   "mimetype": "text/x-python",
   "name": "python",
   "nbconvert_exporter": "python",
   "pygments_lexer": "ipython3",
   "version": "3.11.4"
  }
 },
 "nbformat": 4,
 "nbformat_minor": 5
}
