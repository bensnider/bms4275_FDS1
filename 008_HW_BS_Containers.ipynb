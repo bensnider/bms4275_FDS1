{
 "cells": [
  {
   "cell_type": "markdown",
   "id": "86b2decd",
   "metadata": {},
   "source": [
    "### 1. Indexing Strings"
   ]
  },
  {
   "cell_type": "code",
   "execution_count": 62,
   "id": "29ed179e",
   "metadata": {},
   "outputs": [
    {
     "data": {
      "text/plain": [
       "str"
      ]
     },
     "execution_count": 62,
     "metadata": {},
     "output_type": "execute_result"
    }
   ],
   "source": [
    "s = \"PYTHON\"\n",
    "type(s)"
   ]
  },
  {
   "cell_type": "markdown",
   "id": "1bf8e2f7",
   "metadata": {},
   "source": [
    "#### a)"
   ]
  },
  {
   "cell_type": "code",
   "execution_count": 63,
   "id": "c39f42e8",
   "metadata": {},
   "outputs": [
    {
     "data": {
      "text/plain": [
       "'P'"
      ]
     },
     "execution_count": 63,
     "metadata": {},
     "output_type": "execute_result"
    }
   ],
   "source": [
    "s[0]"
   ]
  },
  {
   "cell_type": "markdown",
   "id": "137dfa28",
   "metadata": {},
   "source": [
    "#### b)"
   ]
  },
  {
   "cell_type": "code",
   "execution_count": 64,
   "id": "8e9623bd",
   "metadata": {},
   "outputs": [
    {
     "data": {
      "text/plain": [
       "'N'"
      ]
     },
     "execution_count": 64,
     "metadata": {},
     "output_type": "execute_result"
    }
   ],
   "source": [
    "s[5]"
   ]
  },
  {
   "cell_type": "markdown",
   "id": "7d4d893e",
   "metadata": {},
   "source": [
    "#### c)"
   ]
  },
  {
   "cell_type": "code",
   "execution_count": 65,
   "id": "30b9281b",
   "metadata": {},
   "outputs": [
    {
     "data": {
      "text/plain": [
       "'H'"
      ]
     },
     "execution_count": 65,
     "metadata": {},
     "output_type": "execute_result"
    }
   ],
   "source": [
    "s[3]"
   ]
  },
  {
   "cell_type": "markdown",
   "id": "9a0eed69",
   "metadata": {},
   "source": [
    "#### d)"
   ]
  },
  {
   "cell_type": "code",
   "execution_count": 66,
   "id": "1af57326",
   "metadata": {},
   "outputs": [
    {
     "data": {
      "text/plain": [
       "str"
      ]
     },
     "execution_count": 66,
     "metadata": {},
     "output_type": "execute_result"
    }
   ],
   "source": [
    "type(s[3])"
   ]
  },
  {
   "cell_type": "markdown",
   "id": "7e919a46",
   "metadata": {},
   "source": [
    "### 2. Indexing Tuples"
   ]
  },
  {
   "cell_type": "code",
   "execution_count": 67,
   "id": "7cc0e7e7",
   "metadata": {},
   "outputs": [
    {
     "data": {
      "text/plain": [
       "tuple"
      ]
     },
     "execution_count": 67,
     "metadata": {},
     "output_type": "execute_result"
    }
   ],
   "source": [
    "t = (10, 20, 30, 40, 50, 60)\n",
    "type(t)"
   ]
  },
  {
   "cell_type": "markdown",
   "id": "7e59c936",
   "metadata": {},
   "source": [
    "#### a)"
   ]
  },
  {
   "cell_type": "code",
   "execution_count": 68,
   "id": "7ba23a9f",
   "metadata": {},
   "outputs": [
    {
     "data": {
      "text/plain": [
       "10"
      ]
     },
     "execution_count": 68,
     "metadata": {},
     "output_type": "execute_result"
    }
   ],
   "source": [
    "t[0]"
   ]
  },
  {
   "cell_type": "markdown",
   "id": "c9ab9769",
   "metadata": {},
   "source": [
    "#### b)"
   ]
  },
  {
   "cell_type": "code",
   "execution_count": 69,
   "id": "63afa45b",
   "metadata": {},
   "outputs": [
    {
     "data": {
      "text/plain": [
       "30"
      ]
     },
     "execution_count": 69,
     "metadata": {},
     "output_type": "execute_result"
    }
   ],
   "source": [
    "t[2]"
   ]
  },
  {
   "cell_type": "markdown",
   "id": "0348ef2b",
   "metadata": {},
   "source": [
    "#### c)"
   ]
  },
  {
   "cell_type": "code",
   "execution_count": 70,
   "id": "a296a4db",
   "metadata": {},
   "outputs": [
    {
     "ename": "TypeError",
     "evalue": "'tuple' object does not support item assignment",
     "output_type": "error",
     "traceback": [
      "\u001b[1;31m---------------------------------------------------------------------------\u001b[0m",
      "\u001b[1;31mTypeError\u001b[0m                                 Traceback (most recent call last)",
      "Cell \u001b[1;32mIn[70], line 1\u001b[0m\n\u001b[1;32m----> 1\u001b[0m t[\u001b[38;5;241m2\u001b[39m] \u001b[38;5;241m=\u001b[39m \u001b[38;5;241m30.4\u001b[39m\n",
      "\u001b[1;31mTypeError\u001b[0m: 'tuple' object does not support item assignment"
     ]
    }
   ],
   "source": [
    "t[2] = 30.4"
   ]
  },
  {
   "cell_type": "markdown",
   "id": "aa180ee0",
   "metadata": {},
   "source": [
    "### 3. Indexing Lists and Lists of Lists"
   ]
  },
  {
   "cell_type": "code",
   "execution_count": 71,
   "id": "eb750669",
   "metadata": {},
   "outputs": [],
   "source": [
    "lst = [5, 15, 25, [35, 45, [55, 65, 75], 85], 95]"
   ]
  },
  {
   "cell_type": "markdown",
   "id": "b21f6868",
   "metadata": {},
   "source": [
    "#### a)"
   ]
  },
  {
   "cell_type": "code",
   "execution_count": 72,
   "id": "19d21986",
   "metadata": {},
   "outputs": [
    {
     "data": {
      "text/plain": [
       "5"
      ]
     },
     "execution_count": 72,
     "metadata": {},
     "output_type": "execute_result"
    }
   ],
   "source": [
    "lst[0]"
   ]
  },
  {
   "cell_type": "markdown",
   "id": "f5a2d3f2",
   "metadata": {},
   "source": [
    "#### b)"
   ]
  },
  {
   "cell_type": "code",
   "execution_count": 73,
   "id": "e5618900",
   "metadata": {},
   "outputs": [
    {
     "data": {
      "text/plain": [
       "95"
      ]
     },
     "execution_count": 73,
     "metadata": {},
     "output_type": "execute_result"
    }
   ],
   "source": [
    "lst[4]"
   ]
  },
  {
   "cell_type": "code",
   "execution_count": 74,
   "id": "038d6913",
   "metadata": {},
   "outputs": [
    {
     "data": {
      "text/plain": [
       "[55, 65, 75]"
      ]
     },
     "execution_count": 74,
     "metadata": {},
     "output_type": "execute_result"
    }
   ],
   "source": [
    "lst[3][2]"
   ]
  },
  {
   "cell_type": "markdown",
   "id": "86a43403",
   "metadata": {},
   "source": [
    "#### c)"
   ]
  },
  {
   "cell_type": "code",
   "execution_count": 75,
   "id": "72795bd1",
   "metadata": {},
   "outputs": [
    {
     "data": {
      "text/plain": [
       "65"
      ]
     },
     "execution_count": 75,
     "metadata": {},
     "output_type": "execute_result"
    }
   ],
   "source": [
    "lst[3][2][1]"
   ]
  },
  {
   "cell_type": "markdown",
   "id": "dcf61b93",
   "metadata": {},
   "source": [
    "### 4. Lists of Lists as Arrays"
   ]
  },
  {
   "cell_type": "code",
   "execution_count": 76,
   "id": "e7d9540c",
   "metadata": {},
   "outputs": [],
   "source": [
    "pythonmatrix = [\n",
    "    [1, 2, 3],\n",
    "    [4, 5, 6],\n",
    "    [7, 8, 9]\n",
    "]"
   ]
  },
  {
   "cell_type": "markdown",
   "id": "4a759a27",
   "metadata": {},
   "source": [
    "#### a)"
   ]
  },
  {
   "cell_type": "code",
   "execution_count": 77,
   "id": "870978dc",
   "metadata": {},
   "outputs": [
    {
     "data": {
      "text/plain": [
       "[4, 5, 6]"
      ]
     },
     "execution_count": 77,
     "metadata": {},
     "output_type": "execute_result"
    }
   ],
   "source": [
    "pythonmatrix[1]"
   ]
  },
  {
   "cell_type": "markdown",
   "id": "dbb6c8c6",
   "metadata": {},
   "source": [
    "#### b)"
   ]
  },
  {
   "cell_type": "code",
   "execution_count": 98,
   "id": "f73d7a8a",
   "metadata": {},
   "outputs": [
    {
     "name": "stdout",
     "output_type": "stream",
     "text": [
      "3 \n",
      " 6 \n",
      " 9\n",
      "[3, 6, 9]\n",
      "3 6 9\n"
     ]
    },
    {
     "data": {
      "text/plain": [
       "(3, 6, 9)"
      ]
     },
     "execution_count": 98,
     "metadata": {},
     "output_type": "execute_result"
    }
   ],
   "source": [
    "# First try\n",
    "print(pythonmatrix[0][2], \"\\n\", pythonmatrix[1][2], \"\\n\", pythonmatrix[2][2])\n",
    "# Other method\n",
    "column3 = [pythonmatrix[0][2], pythonmatrix[1][2], pythonmatrix[2][2]]\n",
    "print(column3)\n",
    "# Another method\n",
    "print(pythonmatrix[0][2], pythonmatrix[1][2], pythonmatrix[2][2])\n",
    "# Still feels like there's a more efficient way\n",
    "pythonmatrix[0][2], pythonmatrix[1][2], pythonmatrix[2][2]"
   ]
  },
  {
   "cell_type": "markdown",
   "id": "ac26e986",
   "metadata": {},
   "source": [
    "#### c)"
   ]
  },
  {
   "cell_type": "code",
   "execution_count": 79,
   "id": "be1358df",
   "metadata": {},
   "outputs": [
    {
     "name": "stdout",
     "output_type": "stream",
     "text": [
      "[1, 2, 3] \n",
      " [4, 0, 6] \n",
      " [7, 8, 9]\n"
     ]
    }
   ],
   "source": [
    "pythonmatrix[1][1] = 0\n",
    "print(pythonmatrix[0], \"\\n\", pythonmatrix[1], \"\\n\", pythonmatrix[2])"
   ]
  },
  {
   "cell_type": "markdown",
   "id": "349322db",
   "metadata": {},
   "source": [
    "### 5. Using Sets"
   ]
  },
  {
   "cell_type": "code",
   "execution_count": 80,
   "id": "73516364",
   "metadata": {},
   "outputs": [],
   "source": [
    "A = [1, 2, 2, 3, 4, 4, 5]\n",
    "B = [4, 5, 5, 6, 7, 7, 8]"
   ]
  },
  {
   "cell_type": "markdown",
   "id": "232813f0",
   "metadata": {},
   "source": [
    "#### a)"
   ]
  },
  {
   "cell_type": "code",
   "execution_count": 81,
   "id": "48a68cd1",
   "metadata": {},
   "outputs": [],
   "source": [
    "setA = set(A)\n",
    "setB = set(B)"
   ]
  },
  {
   "cell_type": "markdown",
   "id": "cbed7bd6",
   "metadata": {},
   "source": [
    "#### b)"
   ]
  },
  {
   "cell_type": "code",
   "execution_count": 82,
   "id": "31d1ce38",
   "metadata": {},
   "outputs": [
    {
     "data": {
      "text/plain": [
       "{1, 2, 3, 4, 5, 6, 7, 8}"
      ]
     },
     "execution_count": 82,
     "metadata": {},
     "output_type": "execute_result"
    }
   ],
   "source": [
    "setA | setB"
   ]
  },
  {
   "cell_type": "markdown",
   "id": "e0beef55",
   "metadata": {},
   "source": [
    "#### c)"
   ]
  },
  {
   "cell_type": "code",
   "execution_count": 83,
   "id": "4fd39282",
   "metadata": {},
   "outputs": [
    {
     "data": {
      "text/plain": [
       "{4, 5}"
      ]
     },
     "execution_count": 83,
     "metadata": {},
     "output_type": "execute_result"
    }
   ],
   "source": [
    "setA & setB"
   ]
  },
  {
   "cell_type": "markdown",
   "id": "5b526e2a",
   "metadata": {},
   "source": [
    "#### d)"
   ]
  },
  {
   "cell_type": "code",
   "execution_count": 84,
   "id": "bf74bf05",
   "metadata": {},
   "outputs": [
    {
     "data": {
      "text/plain": [
       "{1, 2, 3}"
      ]
     },
     "execution_count": 84,
     "metadata": {},
     "output_type": "execute_result"
    }
   ],
   "source": [
    "setA - setB"
   ]
  },
  {
   "cell_type": "markdown",
   "id": "6732843a",
   "metadata": {},
   "source": [
    "#### e)"
   ]
  },
  {
   "cell_type": "code",
   "execution_count": 85,
   "id": "386f4f05",
   "metadata": {},
   "outputs": [
    {
     "data": {
      "text/plain": [
       "{1, 2, 3, 6, 7, 8}"
      ]
     },
     "execution_count": 85,
     "metadata": {},
     "output_type": "execute_result"
    }
   ],
   "source": [
    "setA ^ setB"
   ]
  },
  {
   "cell_type": "markdown",
   "id": "bc72ec17",
   "metadata": {},
   "source": [
    "### 6. Working with Dictionaries"
   ]
  },
  {
   "cell_type": "code",
   "execution_count": 86,
   "id": "b29b6a11",
   "metadata": {},
   "outputs": [],
   "source": [
    "pythonstock = {\n",
    "    \"apple\": 50,\n",
    "    \"banana\": 25,\n",
    "    \"orange\": 30,\n",
    "    \"grape\": 45\n",
    "}"
   ]
  },
  {
   "cell_type": "markdown",
   "id": "54b0ea0c",
   "metadata": {},
   "source": [
    "#### a)"
   ]
  },
  {
   "cell_type": "code",
   "execution_count": 87,
   "id": "3c53943f",
   "metadata": {},
   "outputs": [
    {
     "data": {
      "text/plain": [
       "50"
      ]
     },
     "execution_count": 87,
     "metadata": {},
     "output_type": "execute_result"
    }
   ],
   "source": [
    "pythonstock['apple']"
   ]
  },
  {
   "cell_type": "markdown",
   "id": "8c325ea0",
   "metadata": {},
   "source": [
    "#### b)"
   ]
  },
  {
   "cell_type": "code",
   "execution_count": 88,
   "id": "2f85926c",
   "metadata": {},
   "outputs": [
    {
     "data": {
      "text/plain": [
       "{'apple': 50, 'banana': 25, 'orange': 30, 'grape': 45, 'pear': 40}"
      ]
     },
     "execution_count": 88,
     "metadata": {},
     "output_type": "execute_result"
    }
   ],
   "source": [
    "pythonstock['pear'] = 40\n",
    "pythonstock"
   ]
  },
  {
   "cell_type": "markdown",
   "id": "959972b1",
   "metadata": {},
   "source": [
    "#### c)"
   ]
  },
  {
   "cell_type": "code",
   "execution_count": 89,
   "id": "09843d45",
   "metadata": {},
   "outputs": [
    {
     "data": {
      "text/plain": [
       "{'apple': 50, 'banana': 30, 'orange': 30, 'grape': 45, 'pear': 40}"
      ]
     },
     "execution_count": 89,
     "metadata": {},
     "output_type": "execute_result"
    }
   ],
   "source": [
    "pythonstock['banana'] = 30\n",
    "pythonstock"
   ]
  },
  {
   "cell_type": "markdown",
   "id": "b8b06bff",
   "metadata": {},
   "source": [
    "#### d)"
   ]
  },
  {
   "cell_type": "code",
   "execution_count": 90,
   "id": "e7adafe4",
   "metadata": {},
   "outputs": [
    {
     "data": {
      "text/plain": [
       "{'apple': 50, 'banana': 30, 'grape': 45, 'pear': 40}"
      ]
     },
     "execution_count": 90,
     "metadata": {},
     "output_type": "execute_result"
    }
   ],
   "source": [
    "del pythonstock['orange']\n",
    "pythonstock"
   ]
  }
 ],
 "metadata": {
  "kernelspec": {
   "display_name": "Python 3 (ipykernel)",
   "language": "python",
   "name": "python3"
  },
  "language_info": {
   "codemirror_mode": {
    "name": "ipython",
    "version": 3
   },
   "file_extension": ".py",
   "mimetype": "text/x-python",
   "name": "python",
   "nbconvert_exporter": "python",
   "pygments_lexer": "ipython3",
   "version": "3.11.4"
  }
 },
 "nbformat": 4,
 "nbformat_minor": 5
}
