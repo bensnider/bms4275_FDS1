{
 "cells": [
  {
   "cell_type": "markdown",
   "id": "e9c47e32",
   "metadata": {},
   "source": [
    "### Part A: Slicing"
   ]
  },
  {
   "cell_type": "markdown",
   "id": "fcc767c4",
   "metadata": {},
   "source": [
    "1. Strings"
   ]
  },
  {
   "cell_type": "code",
   "execution_count": 77,
   "id": "0085fc22",
   "metadata": {},
   "outputs": [],
   "source": [
    "s = \"ProgrammingIsFun\""
   ]
  },
  {
   "cell_type": "code",
   "execution_count": 78,
   "id": "e92cf81e",
   "metadata": {},
   "outputs": [
    {
     "name": "stdout",
     "output_type": "stream",
     "text": [
      "Fun\n"
     ]
    }
   ],
   "source": [
    "print(s[-3:])"
   ]
  },
  {
   "cell_type": "code",
   "execution_count": 79,
   "id": "9ab37e58",
   "metadata": {},
   "outputs": [
    {
     "name": "stdout",
     "output_type": "stream",
     "text": [
      "oaiIu\n"
     ]
    }
   ],
   "source": [
    "print(s[2::3])"
   ]
  },
  {
   "cell_type": "markdown",
   "id": "7dfe9e64",
   "metadata": {},
   "source": [
    "2. Lists"
   ]
  },
  {
   "cell_type": "code",
   "execution_count": 80,
   "id": "02ee0de4",
   "metadata": {},
   "outputs": [],
   "source": [
    "Lst = [10, 20, 30, 40, 50, 60, 70, 80]"
   ]
  },
  {
   "cell_type": "code",
   "execution_count": 81,
   "id": "8b5ed586",
   "metadata": {},
   "outputs": [
    {
     "name": "stdout",
     "output_type": "stream",
     "text": [
      "[10, 20, 30]\n"
     ]
    }
   ],
   "source": [
    "print(Lst[0:3])"
   ]
  },
  {
   "cell_type": "code",
   "execution_count": 82,
   "id": "a5898a54",
   "metadata": {},
   "outputs": [
    {
     "name": "stdout",
     "output_type": "stream",
     "text": [
      "[70, 80]\n"
     ]
    }
   ],
   "source": [
    "print(Lst[-2:])"
   ]
  },
  {
   "cell_type": "code",
   "execution_count": 83,
   "id": "d88c7ac4",
   "metadata": {},
   "outputs": [
    {
     "name": "stdout",
     "output_type": "stream",
     "text": [
      "[30, 40, 50, 60]\n"
     ]
    }
   ],
   "source": [
    "print(Lst[2:6])"
   ]
  },
  {
   "cell_type": "code",
   "execution_count": 84,
   "id": "9031c380",
   "metadata": {},
   "outputs": [
    {
     "name": "stdout",
     "output_type": "stream",
     "text": [
      "[20, 40, 60, 80]\n"
     ]
    }
   ],
   "source": [
    "print(Lst[1::2])"
   ]
  },
  {
   "cell_type": "code",
   "execution_count": 85,
   "id": "46ea9ba9",
   "metadata": {},
   "outputs": [
    {
     "name": "stdout",
     "output_type": "stream",
     "text": [
      "[80, 60, 40, 20]\n"
     ]
    }
   ],
   "source": [
    "print(Lst[-1::-2])"
   ]
  },
  {
   "cell_type": "markdown",
   "id": "b55cb75f",
   "metadata": {},
   "source": [
    "3. Tuples"
   ]
  },
  {
   "cell_type": "code",
   "execution_count": 86,
   "id": "058d3fdb",
   "metadata": {},
   "outputs": [],
   "source": [
    "tup = (5,10,15,20,25,30,35,40)"
   ]
  },
  {
   "cell_type": "code",
   "execution_count": 87,
   "id": "aeaa0c71",
   "metadata": {},
   "outputs": [
    {
     "name": "stdout",
     "output_type": "stream",
     "text": [
      "10\n"
     ]
    }
   ],
   "source": [
    "print(tup[1])"
   ]
  },
  {
   "cell_type": "code",
   "execution_count": 88,
   "id": "2429361e",
   "metadata": {},
   "outputs": [
    {
     "name": "stdout",
     "output_type": "stream",
     "text": [
      "(30, 35, 40)\n"
     ]
    }
   ],
   "source": [
    "print(tup[-3:])"
   ]
  },
  {
   "cell_type": "code",
   "execution_count": 89,
   "id": "186e2689",
   "metadata": {},
   "outputs": [
    {
     "name": "stdout",
     "output_type": "stream",
     "text": [
      "(15, 20)\n"
     ]
    }
   ],
   "source": [
    "print(tup[2:4])"
   ]
  },
  {
   "cell_type": "markdown",
   "id": "d4b9fe94",
   "metadata": {},
   "source": [
    "### Part B: Methods of Data Structures"
   ]
  },
  {
   "cell_type": "markdown",
   "id": "4944d41e",
   "metadata": {},
   "source": [
    "1. Strings"
   ]
  },
  {
   "cell_type": "code",
   "execution_count": 90,
   "id": "95c65939",
   "metadata": {},
   "outputs": [
    {
     "data": {
      "text/plain": [
       "7"
      ]
     },
     "execution_count": 90,
     "metadata": {},
     "output_type": "execute_result"
    }
   ],
   "source": [
    "s.index(\"ming\")"
   ]
  },
  {
   "cell_type": "code",
   "execution_count": 91,
   "id": "45bd5242",
   "metadata": {},
   "outputs": [
    {
     "data": {
      "text/plain": [
       "'programmingisfun'"
      ]
     },
     "execution_count": 91,
     "metadata": {},
     "output_type": "execute_result"
    }
   ],
   "source": [
    "s.lower()"
   ]
  },
  {
   "cell_type": "code",
   "execution_count": 92,
   "id": "d11b3742",
   "metadata": {},
   "outputs": [
    {
     "data": {
      "text/plain": [
       "'ProgrammingIsAmazing'"
      ]
     },
     "execution_count": 92,
     "metadata": {},
     "output_type": "execute_result"
    }
   ],
   "source": [
    "s_new = \"Amazing\"\n",
    "s.replace(\"Fun\", s_new)"
   ]
  },
  {
   "cell_type": "markdown",
   "id": "ec7e759c",
   "metadata": {},
   "source": [
    "2. Lists"
   ]
  },
  {
   "cell_type": "code",
   "execution_count": 93,
   "id": "34132da9",
   "metadata": {},
   "outputs": [
    {
     "name": "stdout",
     "output_type": "stream",
     "text": [
      "[10, 20, 30, 40, 50, 60, 70, 80, 90, 100]\n"
     ]
    }
   ],
   "source": [
    "Lst_add = [90,100]\n",
    "Lst.extend(Lst_add)\n",
    "print(Lst)"
   ]
  },
  {
   "cell_type": "code",
   "execution_count": 94,
   "id": "d7a710cd",
   "metadata": {},
   "outputs": [
    {
     "name": "stdout",
     "output_type": "stream",
     "text": [
      "[10, 30, 40, 50, 60, 70, 80, 90, 100]\n"
     ]
    }
   ],
   "source": [
    "Lst.remove(20)\n",
    "print(Lst)"
   ]
  },
  {
   "cell_type": "code",
   "execution_count": 95,
   "id": "60a1a568",
   "metadata": {},
   "outputs": [
    {
     "name": "stdout",
     "output_type": "stream",
     "text": [
      "[100, 90, 80, 70, 60, 50, 40, 30, 10]\n"
     ]
    }
   ],
   "source": [
    "Lst.reverse()\n",
    "print(Lst)"
   ]
  },
  {
   "cell_type": "code",
   "execution_count": 96,
   "id": "4e046feb",
   "metadata": {},
   "outputs": [
    {
     "data": {
      "text/plain": [
       "5"
      ]
     },
     "execution_count": 96,
     "metadata": {},
     "output_type": "execute_result"
    }
   ],
   "source": [
    "Lst.index(50)"
   ]
  },
  {
   "cell_type": "markdown",
   "id": "36e9b05b",
   "metadata": {},
   "source": [
    "3. Tuples"
   ]
  },
  {
   "cell_type": "code",
   "execution_count": 97,
   "id": "0f502e97",
   "metadata": {},
   "outputs": [
    {
     "data": {
      "text/plain": [
       "1"
      ]
     },
     "execution_count": 97,
     "metadata": {},
     "output_type": "execute_result"
    }
   ],
   "source": [
    "tup.count(20)"
   ]
  },
  {
   "cell_type": "code",
   "execution_count": 98,
   "id": "d20b8bc2",
   "metadata": {},
   "outputs": [
    {
     "name": "stdout",
     "output_type": "stream",
     "text": [
      "(5, 10, 15, 20, 25, 30, 35, 40, 45)\n"
     ]
    },
    {
     "data": {
      "text/plain": [
       "tuple"
      ]
     },
     "execution_count": 98,
     "metadata": {},
     "output_type": "execute_result"
    }
   ],
   "source": [
    "tup_list = list(tup)\n",
    "tup_list.append(45)\n",
    "tup = tuple(tup_list)\n",
    "print(tup)\n",
    "type(tup)"
   ]
  },
  {
   "cell_type": "markdown",
   "id": "506957e8",
   "metadata": {},
   "source": [
    "5. Dictionaries"
   ]
  },
  {
   "cell_type": "code",
   "execution_count": 99,
   "id": "11296beb",
   "metadata": {},
   "outputs": [],
   "source": [
    "S_Doo_ = {\"Scooby\":4, \"Shaggy\":19, \"Velma\":18, \"Daphne\":20}"
   ]
  },
  {
   "cell_type": "code",
   "execution_count": 100,
   "id": "b167c8f6",
   "metadata": {},
   "outputs": [
    {
     "name": "stdout",
     "output_type": "stream",
     "text": [
      "{'Scooby': 4, 'Shaggy': 19, 'Velma': 18, 'Daphne': 20, 'Phred': 21}\n"
     ]
    }
   ],
   "source": [
    "S_Doo_[\"Phred\"]=21\n",
    "print(S_Doo_)"
   ]
  },
  {
   "cell_type": "code",
   "execution_count": 101,
   "id": "06a8e01b",
   "metadata": {},
   "outputs": [
    {
     "name": "stdout",
     "output_type": "stream",
     "text": [
      "18\n"
     ]
    }
   ],
   "source": [
    "print(S_Doo_[\"Velma\"])"
   ]
  },
  {
   "cell_type": "code",
   "execution_count": 102,
   "id": "163679d3",
   "metadata": {},
   "outputs": [
    {
     "name": "stdout",
     "output_type": "stream",
     "text": [
      "{'Shaggy': 19, 'Velma': 18, 'Daphne': 20, 'Phred': 21}\n"
     ]
    }
   ],
   "source": [
    "S_Doo_.pop(\"Scooby\")\n",
    "print(S_Doo_)"
   ]
  },
  {
   "cell_type": "code",
   "execution_count": 103,
   "id": "f180addb",
   "metadata": {},
   "outputs": [
    {
     "data": {
      "text/plain": [
       "dict_keys(['Shaggy', 'Velma', 'Daphne', 'Phred'])"
      ]
     },
     "execution_count": 103,
     "metadata": {},
     "output_type": "execute_result"
    }
   ],
   "source": [
    "S_Doo_.keys()"
   ]
  },
  {
   "cell_type": "code",
   "execution_count": 104,
   "id": "1dd4dee7",
   "metadata": {},
   "outputs": [
    {
     "data": {
      "text/plain": [
       "dict_values([19, 18, 20, 21])"
      ]
     },
     "execution_count": 104,
     "metadata": {},
     "output_type": "execute_result"
    }
   ],
   "source": [
    "S_Doo_.values()"
   ]
  },
  {
   "cell_type": "markdown",
   "id": "59a8cbe3",
   "metadata": {},
   "source": [
    "### Bonus"
   ]
  },
  {
   "cell_type": "code",
   "execution_count": 105,
   "id": "f5b82a7e",
   "metadata": {},
   "outputs": [
    {
     "name": "stdout",
     "output_type": "stream",
     "text": [
      "['Shaggy', 'Velma', 'Daphne', 'Phred']\n"
     ]
    }
   ],
   "source": [
    "S_Doo_Lst = list(S_Doo_.keys())\n",
    "print(S_Doo_Lst)"
   ]
  }
 ],
 "metadata": {
  "kernelspec": {
   "display_name": "Python 3 (ipykernel)",
   "language": "python",
   "name": "python3"
  },
  "language_info": {
   "codemirror_mode": {
    "name": "ipython",
    "version": 3
   },
   "file_extension": ".py",
   "mimetype": "text/x-python",
   "name": "python",
   "nbconvert_exporter": "python",
   "pygments_lexer": "ipython3",
   "version": "3.11.4"
  }
 },
 "nbformat": 4,
 "nbformat_minor": 5
}
