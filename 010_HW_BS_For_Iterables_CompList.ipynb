{
 "cells": [
  {
   "cell_type": "markdown",
   "id": "2cd096e1",
   "metadata": {},
   "source": [
    "## Part 1 : 'for' loops with lists and 'range()'"
   ]
  },
  {
   "cell_type": "markdown",
   "id": "cbd58150",
   "metadata": {},
   "source": [
    "### 1. Lists"
   ]
  },
  {
   "cell_type": "markdown",
   "id": "f53633be",
   "metadata": {},
   "source": [
    "a) Write a program (i.e. code cell) that takes a list of numbers and prints each number multiplied by 2."
   ]
  },
  {
   "cell_type": "code",
   "execution_count": 4,
   "id": "c05f8022",
   "metadata": {},
   "outputs": [
    {
     "name": "stdout",
     "output_type": "stream",
     "text": [
      "4\n",
      "16\n",
      "36\n",
      "64\n"
     ]
    }
   ],
   "source": [
    "num_list = [2, 4, 6, 8]\n",
    "for squares in num_list :\n",
    "    print(squares**2)"
   ]
  },
  {
   "cell_type": "markdown",
   "id": "03df8dd9",
   "metadata": {},
   "source": [
    "b) Given a list of strings, write a program that prints out the elements of the string in reverse order without reversing the list itself."
   ]
  },
  {
   "cell_type": "code",
   "execution_count": 13,
   "id": "d2c3ab7b",
   "metadata": {
    "scrolled": true
   },
   "outputs": [
    {
     "name": "stdout",
     "output_type": "stream",
     "text": [
      "grape\n",
      "kiwi\n",
      "pear\n",
      "apple\n"
     ]
    }
   ],
   "source": [
    "str_list = [\"apple\", \"pear\", \"kiwi\", \"grape\"]\n",
    "for reverse in str_list[::-1] :\n",
    "    print(reverse)"
   ]
  },
  {
   "cell_type": "markdown",
   "id": "2fc03b64",
   "metadata": {},
   "source": [
    "### 2. Using the range() function"
   ]
  },
  {
   "cell_type": "markdown",
   "id": "e4585452",
   "metadata": {},
   "source": [
    "a) Write code that uses a `for` loop and the `range()` function to print numbers 0 through 9."
   ]
  },
  {
   "cell_type": "code",
   "execution_count": 33,
   "id": "4e03d383",
   "metadata": {},
   "outputs": [
    {
     "name": "stdout",
     "output_type": "stream",
     "text": [
      "0\n",
      "1\n",
      "2\n",
      "3\n",
      "4\n",
      "5\n",
      "6\n",
      "7\n",
      "8\n",
      "9\n"
     ]
    }
   ],
   "source": [
    "for i in range(0,10) :\n",
    "    print(i)"
   ]
  },
  {
   "cell_type": "markdown",
   "id": "54debacd",
   "metadata": {},
   "source": [
    "b) Use the `range()` function to print numbers from 5 to 15."
   ]
  },
  {
   "cell_type": "code",
   "execution_count": 34,
   "id": "7bc99090",
   "metadata": {},
   "outputs": [
    {
     "name": "stdout",
     "output_type": "stream",
     "text": [
      "5\n",
      "6\n",
      "7\n",
      "8\n",
      "9\n",
      "10\n",
      "11\n",
      "12\n",
      "13\n",
      "14\n",
      "15\n"
     ]
    }
   ],
   "source": [
    "for i in range(5,16) :\n",
    "    print(i)"
   ]
  },
  {
   "cell_type": "markdown",
   "id": "d7a051eb",
   "metadata": {},
   "source": [
    "c) Create a program that prints out the first 10 even numbers using the `range()` function."
   ]
  },
  {
   "cell_type": "code",
   "execution_count": 41,
   "id": "b7af1d77",
   "metadata": {
    "scrolled": true
   },
   "outputs": [
    {
     "name": "stdout",
     "output_type": "stream",
     "text": [
      "2\n",
      "4\n",
      "6\n",
      "8\n",
      "10\n",
      "12\n",
      "14\n",
      "16\n",
      "18\n",
      "20\n"
     ]
    }
   ],
   "source": [
    "for i in range(2, 22, 2) :\n",
    "    print(i)"
   ]
  },
  {
   "cell_type": "markdown",
   "id": "8d4596fe",
   "metadata": {},
   "source": [
    "## Part 2: Dictionaries and Loops"
   ]
  },
  {
   "cell_type": "markdown",
   "id": "61b0b3a3",
   "metadata": {},
   "source": [
    "a) Create a dictionary where the keys are student names and the values are their favorite colors. Write a program that prints out each student's name and their favorite color."
   ]
  },
  {
   "cell_type": "code",
   "execution_count": 67,
   "id": "65d2f2b8",
   "metadata": {
    "scrolled": true
   },
   "outputs": [
    {
     "name": "stdout",
     "output_type": "stream",
     "text": [
      "Alex 's favorite color is Blue\n",
      "Jordan 's favorite color is Green\n",
      "Taylor 's favorite color is Red\n"
     ]
    }
   ],
   "source": [
    "dict1 = {\"Alex\":\"Blue\", \n",
    "        \"Jordan\":\"Green\",\n",
    "        \"Taylor\":\"Red\"}\n",
    "for color in dict1 :\n",
    "    print(color, \"'s favorite color is\", dict1[color])"
   ]
  },
  {
   "cell_type": "markdown",
   "id": "09f1401b",
   "metadata": {},
   "source": [
    "b) Given a dictionary with product names as keys and their quantities as values, write a program that doubles the quantity of each product and prints out the updated quantities."
   ]
  },
  {
   "cell_type": "code",
   "execution_count": 71,
   "id": "375a7aa5",
   "metadata": {
    "scrolled": true
   },
   "outputs": [
    {
     "name": "stdout",
     "output_type": "stream",
     "text": [
      "Apple now has 10\n",
      "Banana now has 6\n",
      "Cherries now has 20\n"
     ]
    }
   ],
   "source": [
    "dict2 = {\"Apple\":5,\n",
    "        \"Banana\":3,\n",
    "        \"Cherries\":10}\n",
    "for quant in dict2 :\n",
    "    number = dict2[quant]*2\n",
    "    print(quant, \"now has\", number)"
   ]
  },
  {
   "cell_type": "markdown",
   "id": "215cfa92",
   "metadata": {},
   "source": [
    "## Part 3: Storing Results of a For Loop in a new List and List Comprehensions"
   ]
  },
  {
   "cell_type": "markdown",
   "id": "696ed775",
   "metadata": {},
   "source": [
    "### 1. Not using list comprehension"
   ]
  },
  {
   "cell_type": "markdown",
   "id": "0207389f",
   "metadata": {},
   "source": [
    "a) Write a program that takes a list of numbers and creates a new list with each number multiplied by 2"
   ]
  },
  {
   "cell_type": "code",
   "execution_count": 76,
   "id": "ac600ae9",
   "metadata": {
    "scrolled": true
   },
   "outputs": [
    {
     "name": "stdout",
     "output_type": "stream",
     "text": [
      "[2, 6, 10, 14]\n"
     ]
    }
   ],
   "source": [
    "list3 = [1, 3, 5, 7]\n",
    "new_list3 = []\n",
    "for list3ing in list3 :\n",
    "    new_list3.append(list3ing*2)\n",
    "print(new_list3)"
   ]
  },
  {
   "cell_type": "markdown",
   "id": "b4307d1c",
   "metadata": {},
   "source": [
    "b) Given a list of words, create a new list that contains the first letter of each word."
   ]
  },
  {
   "cell_type": "code",
   "execution_count": 77,
   "id": "fdf486e4",
   "metadata": {},
   "outputs": [
    {
     "name": "stdout",
     "output_type": "stream",
     "text": [
      "['A', 'B', 'C', 'D']\n"
     ]
    }
   ],
   "source": [
    "word_list = [\"Apple\", \"Banana\", \"Cherry\", \"Date\"]\n",
    "new_word_list = []\n",
    "for word_lists in word_list :\n",
    "    new_word_list.append(word_lists[0])\n",
    "print(new_word_list)"
   ]
  },
  {
   "cell_type": "markdown",
   "id": "3eb613dd",
   "metadata": {},
   "source": [
    "### 2. Using list comprehension"
   ]
  },
  {
   "cell_type": "markdown",
   "id": "efccb7e7",
   "metadata": {},
   "source": [
    "c) Use a list comprehension to compute and save the square roots of a list of numbers from 1 to 10."
   ]
  },
  {
   "cell_type": "code",
   "execution_count": 79,
   "id": "5d8cb45c",
   "metadata": {},
   "outputs": [
    {
     "name": "stdout",
     "output_type": "stream",
     "text": [
      "[1.0, 1.4142135623730951, 1.7320508075688772, 2.0, 2.23606797749979, 2.449489742783178, 2.6457513110645907, 2.8284271247461903, 3.0, 3.1622776601683795]\n"
     ]
    }
   ],
   "source": [
    "comp_list = [1, 2, 3, 4, 5, 6, 7, 8, 9, 10]\n",
    "new_comp_list = [comp_lists**0.5 for comp_lists in comp_list]\n",
    "print(new_comp_list)"
   ]
  },
  {
   "cell_type": "markdown",
   "id": "001f4ccd",
   "metadata": {},
   "source": [
    "d) Given a list of words, use a list comprehension to create a new list containing the last letter of each word."
   ]
  },
  {
   "cell_type": "code",
   "execution_count": 80,
   "id": "f712f380",
   "metadata": {},
   "outputs": [
    {
     "name": "stdout",
     "output_type": "stream",
     "text": [
      "['e', 'r', 'i', 'e']\n"
     ]
    }
   ],
   "source": [
    "word_comp = [\"Apple\", \"Pear\", \"Kiwi\", \"Grape\"]\n",
    "new_word_comp = [word_comps[-1] for word_comps in word_comp]\n",
    "print(new_word_comp)"
   ]
  },
  {
   "cell_type": "markdown",
   "id": "faff0d4a",
   "metadata": {},
   "source": [
    "## Part 4: Nested loops"
   ]
  },
  {
   "cell_type": "markdown",
   "id": "77a525e5",
   "metadata": {},
   "source": [
    "a) Write some code to \"flatten\" the following list-of-lists-of-lists:"
   ]
  },
  {
   "cell_type": "code",
   "execution_count": 5,
   "id": "a6f7a8e8",
   "metadata": {},
   "outputs": [
    {
     "name": "stdout",
     "output_type": "stream",
     "text": [
      "[1, 2, 3, 4, 5, 6, 7, 8, 9, 10, 11, 12, 13, 14, 15, 16, 17, 18, 19, 20, 21, 22, 23, 42]\n"
     ]
    }
   ],
   "source": [
    "deep_list = [[[1, 2, 3, 4], [5, 6, 7, 8]], \n",
    "             [[9, 10, 11, 12], [13, 14, 15, 16]],\n",
    "             [[17, 18, 19, 20], [21, 22, 23, 42]]]\n",
    "flat_list = []\n",
    "for i in range(3): \n",
    "    for j in range(2) :\n",
    "        for y in range(4) :\n",
    "            the_number = deep_list[i][j][y]\n",
    "            flat_list.append(the_number)\n",
    "print(flat_list)"
   ]
  },
  {
   "cell_type": "markdown",
   "id": "bc191b05",
   "metadata": {},
   "source": [
    "b) Write code that reverses ***both*** the order of the strings in the list ***and*** the order of the letters in each string."
   ]
  },
  {
   "cell_type": "code",
   "execution_count": 11,
   "id": "3df720e8",
   "metadata": {},
   "outputs": [
    {
     "name": "stdout",
     "output_type": "stream",
     "text": [
      "able\n",
      "was\n",
      "I\n",
      "ere\n",
      "I\n",
      "saw\n",
      "elba\n"
     ]
    }
   ],
   "source": [
    "myStrLst = [\"able\", \"was\", \"I\", \"ere\", \"I\", \"saw\", \"elba\"]\n",
    "for reverse in myStrLst[::-1] :\n",
    "    print(reverse[::-1])"
   ]
  }
 ],
 "metadata": {
  "kernelspec": {
   "display_name": "Python 3 (ipykernel)",
   "language": "python",
   "name": "python3"
  },
  "language_info": {
   "codemirror_mode": {
    "name": "ipython",
    "version": 3
   },
   "file_extension": ".py",
   "mimetype": "text/x-python",
   "name": "python",
   "nbconvert_exporter": "python",
   "pygments_lexer": "ipython3",
   "version": "3.11.4"
  }
 },
 "nbformat": 4,
 "nbformat_minor": 5
}
