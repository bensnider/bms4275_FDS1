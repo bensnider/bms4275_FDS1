{
 "cells": [
  {
   "cell_type": "markdown",
   "id": "87e3f4fc",
   "metadata": {},
   "source": [
    "# Homework Assignment: Control Structures #"
   ]
  },
  {
   "cell_type": "markdown",
   "id": "40b06858",
   "metadata": {},
   "source": [
    "### 0. Logic: ###"
   ]
  },
  {
   "cell_type": "markdown",
   "id": "0271e871",
   "metadata": {},
   "source": [
    "a) Write come code that determines whether either of the letters in `test_strs = [“y”, “o”]` are in the string `comp_str = “Hello World!”`."
   ]
  },
  {
   "cell_type": "code",
   "execution_count": 20,
   "id": "f32fed9a",
   "metadata": {},
   "outputs": [
    {
     "data": {
      "text/plain": [
       "True"
      ]
     },
     "execution_count": 20,
     "metadata": {},
     "output_type": "execute_result"
    }
   ],
   "source": [
    "test_strs = [\"y\", \"o\"]\n",
    "comp_str = \"Hello World!\"\n",
    "test_strs[0] in comp_str or test_strs[1] in comp_str"
   ]
  },
  {
   "cell_type": "markdown",
   "id": "7a1f8130",
   "metadata": {},
   "source": [
    "b) In logic and computing there is a comparison called an “exclusive or” or “xor”. An xor test produces `True`(or 1) only when one *but not both* of its inputs are `True`. Note that this is different than an `or`, which yields `True` if *either* input is true. Write a line of code that performs an xor on two Boolean variables, a and b, using the tests we know about: `and`, `or`, and `not`. Test you code for all four possible combinations of a and b."
   ]
  },
  {
   "cell_type": "code",
   "execution_count": 77,
   "id": "bc62e09f",
   "metadata": {
    "scrolled": true
   },
   "outputs": [
    {
     "name": "stdout",
     "output_type": "stream",
     "text": [
      "True\n",
      "False\n",
      "False\n",
      "True\n",
      "True\n",
      "False\n",
      "True\n",
      "False\n"
     ]
    }
   ],
   "source": [
    "a1 = False\n",
    "a2 = True\n",
    "b1 = False\n",
    "b2 = True\n",
    "print(a < b)\n",
    "print(a > b)\n",
    "print(a == b)\n",
    "print(a != b)\n",
    "print(a != b or a > b)\n",
    "print(not(a != b) or a > b)\n",
    "print((a > b) ^ (b != a))\n",
    "print((a < b) ^ (b != a))"
   ]
  },
  {
   "cell_type": "code",
   "execution_count": 85,
   "id": "6a820908",
   "metadata": {},
   "outputs": [
    {
     "name": "stdout",
     "output_type": "stream",
     "text": [
      "False\n",
      "False\n",
      "True\n",
      "True\n",
      "True\n",
      "True\n",
      "False\n",
      "False\n"
     ]
    }
   ],
   "source": [
    "print((a1 and (not b1)) or ((not a1) and b1))\n",
    "print(a1 ^ b1)\n",
    "print((a1 and (not b2)) or ((not a1) and b2))\n",
    "print(a1 ^ b2)\n",
    "print((a2 and (not b1)) or ((not a2) and b1))\n",
    "print(a2 ^ b1)\n",
    "print((a2 and (not b2)) or ((not a2) and b2))\n",
    "print(a2 ^ b2)"
   ]
  },
  {
   "cell_type": "markdown",
   "id": "7725aaf0",
   "metadata": {},
   "source": [
    "### 1. Age Category: ###"
   ]
  },
  {
   "cell_type": "markdown",
   "id": "d0c26881",
   "metadata": {},
   "source": [
    "Write a program that:  \n",
    "\n",
    "a) Asks the user to input their age.  \n",
    "b) Based on the age, classifies them into one of the following categories:\n",
    "\n",
    "  - Infant (0-2 years)\n",
    "  - Child (3-12 years)\n",
    "  - Teenager (13-19 years)\n",
    "  - Adult (20-64 years)\n",
    "  - Senior (65 years and above)\n",
    "\n",
    "*Hint*: Use the `if-elif-else` structure."
   ]
  },
  {
   "cell_type": "code",
   "execution_count": 86,
   "id": "177a56c4",
   "metadata": {},
   "outputs": [
    {
     "name": "stdout",
     "output_type": "stream",
     "text": [
      "What is your age?\n",
      "17\n",
      "You are a teenager\n"
     ]
    }
   ],
   "source": [
    "age = int(input(\"What is your age?\\n\"))\n",
    "if age <= 2 :\n",
    "    print(\"You are an infant\")\n",
    "elif 3 <= age <= 12 :\n",
    "    print(\"You are a child\")\n",
    "elif 13 <= age <= 19 :\n",
    "    print(\"You are a teenager\")\n",
    "elif 20 <= age <= 64 :\n",
    "    print(\"You are an adult\")\n",
    "else :\n",
    "    print(\"You are a senior\")"
   ]
  },
  {
   "cell_type": "markdown",
   "id": "0bf15357",
   "metadata": {},
   "source": [
    "## 2. Number Classifier: ##"
   ]
  },
  {
   "cell_type": "markdown",
   "id": "0b84a654",
   "metadata": {},
   "source": [
    "Ask the user to input a number. Write a program to:  \n",
    "\n",
    "a) Check if the number is positive, negative, or zero.  \n",
    "b) Check if the number is even or odd.  \n",
    "\n",
    "Sample output: “Your number, 42, is positive and even.\""
   ]
  },
  {
   "cell_type": "code",
   "execution_count": 87,
   "id": "04d1e95e",
   "metadata": {},
   "outputs": [
    {
     "name": "stdout",
     "output_type": "stream",
     "text": [
      "What's your favorite number?99\n",
      "Your number, 99 , is positive and odd\n"
     ]
    }
   ],
   "source": [
    "num = int(input(\"What's your favorite number?\"))\n",
    "if num > 0 :\n",
    "    if num%2 == 1 :\n",
    "        print(\"Your number,\", num,\", is positive and odd\")\n",
    "    elif num%2 == 0 :\n",
    "        print(\"Your number,\", num, \",is positive and even\")\n",
    "elif num < 0 :\n",
    "    if num%2 == 1 :\n",
    "        print(\"Your number,\", num,\", is negative and odd\")\n",
    "    elif num%2 == 0 :\n",
    "        print(\"Your number,\", num, \",is negative and even\")\n",
    "else :\n",
    "    print(\"You number is zero! Which is even\")"
   ]
  },
  {
   "cell_type": "markdown",
   "id": "6be3024c",
   "metadata": {},
   "source": [
    "### 3. Simple Calculator : ###"
   ]
  },
  {
   "cell_type": "markdown",
   "id": "95031c02",
   "metadata": {},
   "source": [
    "Design a calculator that can perform addition, subtraction, \n",
    "multiplication, and division. The program should:  \n",
    "\n",
    "a) Ask the user to input two numbers.  \n",
    "b) Ask the user to select an operation.  \n",
    "c) Perform the selected operation on the two numbers and display the \n",
    "result.  \n",
    "\n",
    "Make sure to handle invalid operations with an appropriate error message."
   ]
  },
  {
   "cell_type": "code",
   "execution_count": 91,
   "id": "53731948",
   "metadata": {},
   "outputs": [
    {
     "name": "stdout",
     "output_type": "stream",
     "text": [
      "Enter first number \n",
      "18\n",
      "Enter second number \n",
      "9\n",
      "Select operation: [1] Addition, [2] Subtraction, [3] Multiplication, [4] Division \n",
      "1\n",
      "27\n"
     ]
    }
   ],
   "source": [
    "num1 = int(input(\"Enter first number \\n\"))\n",
    "num2 = int(input(\"Enter second number \\n\"))\n",
    "op = int(input(\"Select operation: [1] Addition, [2] Subtraction, [3] Multiplication, [4] Division \\n\"))\n",
    "\n",
    "if op == 1 :\n",
    "    out = num1 + num2\n",
    "    print(out)\n",
    "if op == 2 :\n",
    "    out = num1 - num2\n",
    "    print(out)\n",
    "if op == 3 :\n",
    "    out = num1 * num2\n",
    "    print(out)\n",
    "if op == 4 :\n",
    "    if num2 == 0 :\n",
    "        print(\"Invalid operation: cannot divide by 0\")\n",
    "    else :\n",
    "        out = num1 / num2\n",
    "        print(out)"
   ]
  },
  {
   "cell_type": "markdown",
   "id": "ccae5915",
   "metadata": {},
   "source": [
    "### 4. Guessing Game : ###"
   ]
  },
  {
   "cell_type": "markdown",
   "id": "daba42c1",
   "metadata": {},
   "source": [
    "a) The program should produce a random answer between 1 and 10.  \n",
    "\n",
    "    - use `import random` (we only have to do this once, at the top of the program)\n",
    "    - then `answer = random.randint()` to get the random answer\n",
    "    \n",
    "b) Ask the user to guess the number.  \n",
    "c) Provide hints like \"Too High\" or \"Too Low\" based on the user's guess.  \n",
    "d) The user should have some maximum number of attempts.  \n",
    "e) After the maximum number of incorrect attempts or if the user guesses correctly, reveal the \n",
    "correct number."
   ]
  },
  {
   "cell_type": "code",
   "execution_count": 100,
   "id": "6ef1eae4",
   "metadata": {},
   "outputs": [
    {
     "name": "stdout",
     "output_type": "stream",
     "text": [
      "How many guesses do you want? \n",
      "1\n",
      "Guess the number! \n",
      "7\n",
      "Sorry! You're out of guesses! The correct number was 8\n"
     ]
    }
   ],
   "source": [
    "import random\n",
    "num_of_guess = int(input(\"How many guesses do you want? \\n\"))\n",
    "answer = random.randint(1, 10)\n",
    "\n",
    "\n",
    "if num_of_guess > 0 :\n",
    "    guess = int(input(\"Guess the number! \\n\"))\n",
    "    while num_of_guess > 1 :\n",
    "        num_of_guess = num_of_guess - 1\n",
    "        if guess > answer :\n",
    "            print(\"Too high! Number of guesses remaining:\", num_of_guess)\n",
    "            guess = int(input(\"Guess the number! \\n\"))\n",
    "        elif guess == answer :\n",
    "            num_of_guess = 1\n",
    "        else :\n",
    "            print(\"Too low! Number of guesses remaining:\", num_of_guess)\n",
    "            guess = int(input(\"Guess the number! \\n\"))\n",
    "    if guess != answer :\n",
    "        print(\"Sorry! You're out of guesses! The correct number was\", answer)\n",
    "    else :\n",
    "        print (\"That's right! That's the number!\")\n",
    "else :\n",
    "    print(\"Why are you even playing the game if you want this many guesses?? That makes no sense do you just hate joy and puppies?\")"
   ]
  },
  {
   "cell_type": "markdown",
   "id": "081c03e6",
   "metadata": {},
   "source": [
    "### 5. Counter Contrast : ###"
   ]
  },
  {
   "cell_type": "markdown",
   "id": "6dca5791",
   "metadata": {},
   "source": [
    "Write two versions of a program that asks the user for a positive integer \n",
    "`n` and then prints the numbers from 1 up to `n`.  \n",
    "\n",
    "a) First, use a `for` loop.  \n",
    "b) Next, use a `while` loop.  \n",
    "\n",
    "Which loop structure do you prefer in this context, and why?  "
   ]
  },
  {
   "cell_type": "code",
   "execution_count": 92,
   "id": "20203e6b",
   "metadata": {
    "scrolled": false
   },
   "outputs": [
    {
     "name": "stdout",
     "output_type": "stream",
     "text": [
      "Input any positive integer \n",
      "12\n",
      "1\n",
      "2\n",
      "3\n",
      "4\n",
      "5\n",
      "6\n",
      "7\n",
      "8\n",
      "9\n",
      "10\n",
      "11\n"
     ]
    }
   ],
   "source": [
    "n = int(input(\"Input any positive integer \\n\"))\n",
    "for i in range(1, n) :\n",
    "    print(i)"
   ]
  },
  {
   "cell_type": "code",
   "execution_count": 93,
   "id": "5b388f1d",
   "metadata": {
    "scrolled": false
   },
   "outputs": [
    {
     "name": "stdout",
     "output_type": "stream",
     "text": [
      "Input any positive integer \n",
      "12\n",
      "1\n",
      "2\n",
      "3\n",
      "4\n",
      "5\n",
      "6\n",
      "7\n",
      "8\n",
      "9\n",
      "10\n",
      "11\n"
     ]
    }
   ],
   "source": [
    "n = int(input(\"Input any positive integer \\n\"))\n",
    "start = 0\n",
    "while start < n-1 :\n",
    "    start = start+1\n",
    "    print(start)"
   ]
  },
  {
   "cell_type": "markdown",
   "id": "371b26b8",
   "metadata": {},
   "source": [
    "#### Which loop structure do you prefer in this context, and why? ####"
   ]
  },
  {
   "cell_type": "markdown",
   "id": "7bb5cfed",
   "metadata": {},
   "source": [
    "In this context I'd say I prefer the for loop, it's just a little simpler and since we know more precisely the number of iterations (n) I think it makes more sense."
   ]
  },
  {
   "cell_type": "markdown",
   "id": "eeb7085c",
   "metadata": {},
   "source": [
    "### 6. Multiplication Table: ###"
   ]
  },
  {
   "cell_type": "markdown",
   "id": "47c9f6b7",
   "metadata": {},
   "source": [
    "Write a program that:  \n",
    "\n",
    "a) Asks the user for a number `n`.  \n",
    "b) Generates and prints the multiplication table for the number up to 10.  \n",
    "\n",
    "For example, if the user inputs `5`, the output should be:  \n",
    "```\n",
    "5 x 1 = 5\n",
    "5 x 2 = 10\n",
    "...\n",
    "5 x 10 = 50\n",
    "```\n",
    "\n",
    "Implement this twice:  \n",
    "a) Using a `for` loop.  \n",
    "b) Using a `while` loop.  \n",
    "\n",
    "Which loop structure do you think is better in this context, and why? "
   ]
  },
  {
   "cell_type": "code",
   "execution_count": 94,
   "id": "2a8b634b",
   "metadata": {
    "scrolled": true
   },
   "outputs": [
    {
     "name": "stdout",
     "output_type": "stream",
     "text": [
      "Input a number15\n",
      "15 x 1 = 15\n",
      "15 x 2 = 30\n",
      "15 x 3 = 45\n",
      "15 x 4 = 60\n",
      "15 x 5 = 75\n",
      "15 x 6 = 90\n",
      "15 x 7 = 105\n",
      "15 x 8 = 120\n",
      "15 x 9 = 135\n",
      "15 x 10 = 150\n"
     ]
    }
   ],
   "source": [
    "mult_n = int(input(\"Input a number\"))\n",
    "for i in range(1,11) :\n",
    "    print(mult_n, \"x\", i, \"=\", mult_n*i)"
   ]
  },
  {
   "cell_type": "code",
   "execution_count": 95,
   "id": "8a3e09d4",
   "metadata": {
    "scrolled": true
   },
   "outputs": [
    {
     "name": "stdout",
     "output_type": "stream",
     "text": [
      "Input a number15\n",
      "15 x 1 = 15\n",
      "15 x 2 = 30\n",
      "15 x 3 = 45\n",
      "15 x 4 = 60\n",
      "15 x 5 = 75\n",
      "15 x 6 = 90\n",
      "15 x 7 = 105\n",
      "15 x 8 = 120\n",
      "15 x 9 = 135\n",
      "15 x 10 = 150\n"
     ]
    }
   ],
   "source": [
    "mult_n = int(input(\"Input a number\"))\n",
    "i = 1\n",
    "while i < 11 :\n",
    "    print(mult_n, \"x\", i, \"=\", mult_n*i)\n",
    "    i = i + 1"
   ]
  },
  {
   "cell_type": "markdown",
   "id": "714fe850",
   "metadata": {},
   "source": [
    " #### Which loop structure do you think is better in this context, and why? ####"
   ]
  },
  {
   "cell_type": "markdown",
   "id": "1046472f",
   "metadata": {},
   "source": [
    "In this context I also prefer the for loop because I was able to do it in less lines. That is, I didn't have to define the index variable since it's range was defined in the for loop."
   ]
  },
  {
   "cell_type": "markdown",
   "id": "7bedf174",
   "metadata": {},
   "source": [
    "#### Think about writing a program for which the user must enter a positive number. If they don't, the program should prompt them again until they do. ####   \n",
    "\n",
    "#### Would you use a `for` loop or a `while` loop to do this? Why?  ####\n"
   ]
  },
  {
   "cell_type": "markdown",
   "id": "350c412f",
   "metadata": {},
   "source": [
    "For this I would use a while loop because we don't know how many iterations it would take the user to enter a positive number. Maybe they're absurdly stubborn and will continue to enter a negative number forever, in this case the for loop would eventually fail."
   ]
  }
 ],
 "metadata": {
  "kernelspec": {
   "display_name": "Python 3 (ipykernel)",
   "language": "python",
   "name": "python3"
  },
  "language_info": {
   "codemirror_mode": {
    "name": "ipython",
    "version": 3
   },
   "file_extension": ".py",
   "mimetype": "text/x-python",
   "name": "python",
   "nbconvert_exporter": "python",
   "pygments_lexer": "ipython3",
   "version": "3.11.4"
  }
 },
 "nbformat": 4,
 "nbformat_minor": 5
}
