{
 "cells": [
  {
   "cell_type": "markdown",
   "id": "a405b002",
   "metadata": {},
   "source": [
    "## Python Programming Homework: Functions, Modules, and Namespaces ##"
   ]
  },
  {
   "cell_type": "markdown",
   "id": "20f361f9",
   "metadata": {},
   "source": [
    "####  1. Function Design for Unit Conversions ####"
   ]
  },
  {
   "cell_type": "markdown",
   "id": "db709b6e",
   "metadata": {},
   "source": [
    "Miles to Kilometers"
   ]
  },
  {
   "cell_type": "code",
   "execution_count": 27,
   "id": "244f6856",
   "metadata": {},
   "outputs": [
    {
     "name": "stdout",
     "output_type": "stream",
     "text": [
      "17.7\n",
      "3.11\n"
     ]
    }
   ],
   "source": [
    "### mi to km\n",
    "def mi_to_km(x) :\n",
    "    convert = round(1.60934*x, 2)\n",
    "    return convert\n",
    "print(mi_to_km(11))\n",
    "### km to mi\n",
    "def km_to_mi(x) :\n",
    "    convert = round(0.621371*x, 2)\n",
    "    return convert\n",
    "print(km_to_mi(5))"
   ]
  },
  {
   "cell_type": "markdown",
   "id": "6d4ce8ce",
   "metadata": {},
   "source": [
    "Fahrenheit to Celsius"
   ]
  },
  {
   "cell_type": "code",
   "execution_count": 29,
   "id": "9f66e373",
   "metadata": {},
   "outputs": [
    {
     "name": "stdout",
     "output_type": "stream",
     "text": [
      "37.78\n",
      "100.0\n"
     ]
    }
   ],
   "source": [
    "### F to C\n",
    "def f_to_c(x) :\n",
    "    convert = round((x-32) * (5/9), 2)\n",
    "    return convert\n",
    "print(f_to_c(100))\n",
    "### C to F\n",
    "def c_to_f(x) :\n",
    "    convert = round((x * 9/5) + 32, 2)\n",
    "    return convert\n",
    "print(c_to_f(37.77777777778))"
   ]
  },
  {
   "cell_type": "markdown",
   "id": "18d8a2ac",
   "metadata": {},
   "source": [
    "Kilograms to Pounds"
   ]
  },
  {
   "cell_type": "code",
   "execution_count": 31,
   "id": "621da690",
   "metadata": {},
   "outputs": [
    {
     "name": "stdout",
     "output_type": "stream",
     "text": [
      "187.39\n",
      "85.0\n"
     ]
    }
   ],
   "source": [
    "### Kg to lbs\n",
    "def kg_to_lbs(x) :\n",
    "    convert = round(2.20462*x, 2)\n",
    "    return convert\n",
    "print(kg_to_lbs(85))\n",
    "### lbs to Kg\n",
    "def lbs_to_kg(x) :\n",
    "    convert = round(0.453592*x, 2)\n",
    "    return convert\n",
    "print(lbs_to_kg(187.3927))"
   ]
  },
  {
   "cell_type": "markdown",
   "id": "b22f905b",
   "metadata": {},
   "source": [
    "#### 2. Module Creation: #### "
   ]
  },
  {
   "cell_type": "code",
   "execution_count": 35,
   "id": "8952ee66",
   "metadata": {
    "scrolled": true
   },
   "outputs": [
    {
     "name": "stdout",
     "output_type": "stream",
     "text": [
      "220.46\n",
      "45.36\n",
      "212.0\n",
      "37.78\n",
      "62.14\n",
      "160.93\n"
     ]
    }
   ],
   "source": [
    "import unit_conversions as uc\n",
    "print(uc.kg_to_lbs(100))\n",
    "print(uc.lbs_to_kg(100))\n",
    "print(uc.c_to_f(100))\n",
    "print(uc.f_to_c(100))\n",
    "print(uc.km_to_mi(100))\n",
    "print(uc.mi_to_km(100))"
   ]
  },
  {
   "cell_type": "markdown",
   "id": "4b2f7667",
   "metadata": {},
   "source": [
    "#### 3. Namespaces: ####"
   ]
  },
  {
   "cell_type": "code",
   "execution_count": 5,
   "id": "917a7ff3",
   "metadata": {},
   "outputs": [
    {
     "data": {
      "text/plain": [
       "10"
      ]
     },
     "execution_count": 5,
     "metadata": {},
     "output_type": "execute_result"
    }
   ],
   "source": [
    "mylist = [1, 2, 3, 4, 5, 6, 7, 8, 9, 10]\n",
    "len(mylist)"
   ]
  },
  {
   "cell_type": "code",
   "execution_count": 12,
   "id": "891c530e",
   "metadata": {},
   "outputs": [
    {
     "name": "stdout",
     "output_type": "stream",
     "text": [
      "42\n",
      "42\n",
      "10\n"
     ]
    }
   ],
   "source": [
    "import mylen\n",
    "print(mylen.len(4))\n",
    "print(mylen.len(mylist))\n",
    "print(len(mylist))"
   ]
  },
  {
   "cell_type": "code",
   "execution_count": 15,
   "id": "40176367",
   "metadata": {},
   "outputs": [],
   "source": [
    "from mylen import len"
   ]
  },
  {
   "cell_type": "code",
   "execution_count": 20,
   "id": "020552e9",
   "metadata": {},
   "outputs": [
    {
     "name": "stdout",
     "output_type": "stream",
     "text": [
      "42\n",
      "42\n"
     ]
    }
   ],
   "source": [
    "print(len(mylist))\n",
    "print(len(4))"
   ]
  },
  {
   "cell_type": "markdown",
   "id": "5743cf45",
   "metadata": {},
   "source": [
    "**In your own words, compare the outputs of the two `len(mylist)` calls. What happened? Why? What does this tell you about namespaces and the egalitarian nature of Python?**"
   ]
  },
  {
   "cell_type": "markdown",
   "id": "e0bbcecb",
   "metadata": {},
   "source": [
    "For the len(mytest) call that did not use my custom namespace it resulted in the real length of mylist = 10. The call that did use my namespace (mylen.len(mylist)) resulted in the expected result, 42. However after calling the len function from my namespace mylen, the len function that results in 42 replaced the original length function so that every call of the len function resulted in 42. This tells me that Python is very egalitarian--anyone for any purpose on their local namespace can 'override' the global namespace made by actual coding pros with whatever local function they want."
   ]
  }
 ],
 "metadata": {
  "kernelspec": {
   "display_name": "Python 3 (ipykernel)",
   "language": "python",
   "name": "python3"
  },
  "language_info": {
   "codemirror_mode": {
    "name": "ipython",
    "version": 3
   },
   "file_extension": ".py",
   "mimetype": "text/x-python",
   "name": "python",
   "nbconvert_exporter": "python",
   "pygments_lexer": "ipython3",
   "version": "3.11.4"
  }
 },
 "nbformat": 4,
 "nbformat_minor": 5
}
