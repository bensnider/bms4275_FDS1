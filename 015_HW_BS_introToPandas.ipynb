{
 "cells": [
  {
   "cell_type": "markdown",
   "id": "6d88f1d6",
   "metadata": {},
   "source": [
    "### Homework on Pandas Basics"
   ]
  },
  {
   "cell_type": "markdown",
   "id": "0e26ea8f",
   "metadata": {},
   "source": [
    "---"
   ]
  },
  {
   "cell_type": "markdown",
   "id": "6c3374d2",
   "metadata": {},
   "source": [
    "#### Series Exercises:"
   ]
  },
  {
   "cell_type": "markdown",
   "id": "f0b58064",
   "metadata": {},
   "source": [
    "1. **Create a Series:**"
   ]
  },
  {
   "cell_type": "markdown",
   "id": "6a71f3a2",
   "metadata": {},
   "source": [
    "Create a Series named `fruits` with the data: 'apple', 'banana', 'cherry', 'date', and assign it an index of 'a', 'b', 'c', 'd' respectively."
   ]
  },
  {
   "cell_type": "code",
   "execution_count": 4,
   "id": "2dc013bc",
   "metadata": {},
   "outputs": [
    {
     "name": "stdout",
     "output_type": "stream",
     "text": [
      "a     apple\n",
      "b    banana\n",
      "c    cherry\n",
      "d      date\n",
      "dtype: object\n",
      "Index(['apple', 'banana', 'cherry', 'date'], dtype='object')\n"
     ]
    }
   ],
   "source": [
    "import pandas as pd\n",
    "fruits = pd.Series(['apple', 'banana', 'cherry', 'date'], index=['a', 'b', 'c', 'd'])"
   ]
  },
  {
   "cell_type": "markdown",
   "id": "40eb4f0a",
   "metadata": {},
   "source": [
    "Print the Series."
   ]
  },
  {
   "cell_type": "code",
   "execution_count": 5,
   "id": "d606a140",
   "metadata": {
    "scrolled": true
   },
   "outputs": [
    {
     "name": "stdout",
     "output_type": "stream",
     "text": [
      "a     apple\n",
      "b    banana\n",
      "c    cherry\n",
      "d      date\n",
      "dtype: object\n"
     ]
    }
   ],
   "source": [
    "print(fruits)"
   ]
  },
  {
   "cell_type": "markdown",
   "id": "363252c9",
   "metadata": {},
   "source": [
    "Print the `Index` of the series."
   ]
  },
  {
   "cell_type": "code",
   "execution_count": 6,
   "id": "04b8f954",
   "metadata": {},
   "outputs": [
    {
     "name": "stdout",
     "output_type": "stream",
     "text": [
      "Index(['apple', 'banana', 'cherry', 'date'], dtype='object')\n"
     ]
    }
   ],
   "source": [
    "print(pd.Index(fruits))"
   ]
  },
  {
   "cell_type": "markdown",
   "id": "fc98e0e1",
   "metadata": {},
   "source": [
    "2. **Accessing Elements:**"
   ]
  },
  {
   "cell_type": "markdown",
   "id": "afcb0e83",
   "metadata": {},
   "source": [
    "Print the second  (\"b\") element of the `fruits` Series."
   ]
  },
  {
   "cell_type": "code",
   "execution_count": 8,
   "id": "143b94c5",
   "metadata": {},
   "outputs": [
    {
     "name": "stdout",
     "output_type": "stream",
     "text": [
      "banana\n"
     ]
    }
   ],
   "source": [
    "print(fruits['b'])"
   ]
  },
  {
   "cell_type": "markdown",
   "id": "b63abe3f",
   "metadata": {},
   "source": [
    "3. **Series Operations:**"
   ]
  },
  {
   "cell_type": "markdown",
   "id": "67f31f12",
   "metadata": {},
   "source": [
    "Create a Series with the squares of the numbers 1 through 5."
   ]
  },
  {
   "cell_type": "code",
   "execution_count": 11,
   "id": "061ed060",
   "metadata": {},
   "outputs": [
    {
     "name": "stdout",
     "output_type": "stream",
     "text": [
      "1     1\n",
      "2     4\n",
      "3     9\n",
      "4    16\n",
      "5    25\n",
      "dtype: int64\n"
     ]
    }
   ],
   "source": [
    "sqrs = pd.Series([1, 4, 9, 16, 25], index = [1, 2, 3, 4, 5])\n",
    "print(sqrs)"
   ]
  },
  {
   "cell_type": "markdown",
   "id": "7cc4fa7e",
   "metadata": {},
   "source": [
    "Add 10 to each item in the series (hint: there a *method* to this madness)."
   ]
  },
  {
   "cell_type": "code",
   "execution_count": 12,
   "id": "b2ed8d2a",
   "metadata": {
    "scrolled": true
   },
   "outputs": [
    {
     "name": "stdout",
     "output_type": "stream",
     "text": [
      "1    11\n",
      "2    14\n",
      "3    19\n",
      "4    26\n",
      "5    35\n",
      "dtype: int64\n"
     ]
    }
   ],
   "source": [
    "sqrs_10 = sqrs + 10\n",
    "print(sqrs_10)"
   ]
  },
  {
   "cell_type": "markdown",
   "id": "c6c72683",
   "metadata": {},
   "source": [
    "---"
   ]
  },
  {
   "cell_type": "markdown",
   "id": "95eb1cea",
   "metadata": {},
   "source": [
    "#### DataFrame Exercises:"
   ]
  },
  {
   "cell_type": "markdown",
   "id": "8884c6c1",
   "metadata": {},
   "source": [
    "1. **Create a DataFrame:**"
   ]
  },
  {
   "cell_type": "markdown",
   "id": "622b3474",
   "metadata": {},
   "source": [
    "Create a DataFrame named `students` with the columns: 'Name', 'Age', 'Grade'."
   ]
  },
  {
   "cell_type": "markdown",
   "id": "639cf062",
   "metadata": {},
   "source": [
    "Populate it with data for three fictional students."
   ]
  },
  {
   "cell_type": "code",
   "execution_count": 20,
   "id": "2fad9c38",
   "metadata": {},
   "outputs": [
    {
     "data": {
      "text/html": [
       "<div>\n",
       "<style scoped>\n",
       "    .dataframe tbody tr th:only-of-type {\n",
       "        vertical-align: middle;\n",
       "    }\n",
       "\n",
       "    .dataframe tbody tr th {\n",
       "        vertical-align: top;\n",
       "    }\n",
       "\n",
       "    .dataframe thead th {\n",
       "        text-align: right;\n",
       "    }\n",
       "</style>\n",
       "<table border=\"1\" class=\"dataframe\">\n",
       "  <thead>\n",
       "    <tr style=\"text-align: right;\">\n",
       "      <th></th>\n",
       "      <th>Name</th>\n",
       "      <th>Age</th>\n",
       "      <th>Grade</th>\n",
       "    </tr>\n",
       "  </thead>\n",
       "  <tbody>\n",
       "    <tr>\n",
       "      <th>0</th>\n",
       "      <td>Bob</td>\n",
       "      <td>15</td>\n",
       "      <td>A</td>\n",
       "    </tr>\n",
       "    <tr>\n",
       "      <th>1</th>\n",
       "      <td>Billy</td>\n",
       "      <td>16</td>\n",
       "      <td>C</td>\n",
       "    </tr>\n",
       "    <tr>\n",
       "      <th>2</th>\n",
       "      <td>Roweena</td>\n",
       "      <td>18</td>\n",
       "      <td>B</td>\n",
       "    </tr>\n",
       "  </tbody>\n",
       "</table>\n",
       "</div>"
      ],
      "text/plain": [
       "      Name  Age Grade\n",
       "0      Bob   15     A\n",
       "1    Billy   16     C\n",
       "2  Roweena   18     B"
      ]
     },
     "execution_count": 20,
     "metadata": {},
     "output_type": "execute_result"
    }
   ],
   "source": [
    "name = [\"Bob\", \"Billy\", \"Roweena\"]\n",
    "age = [15, 16, 18]\n",
    "grade = ['A', 'C', 'B']\n",
    "students = pd.DataFrame({\"Name\": name, \"Age\": age, \"Grade\": grade})\n",
    "students"
   ]
  },
  {
   "cell_type": "markdown",
   "id": "c9bbcc32",
   "metadata": {},
   "source": [
    "2. **Accessing Data:**"
   ]
  },
  {
   "cell_type": "markdown",
   "id": "76a73e7f",
   "metadata": {},
   "source": [
    "Print the `Name` column of the `students` DataFrame."
   ]
  },
  {
   "cell_type": "code",
   "execution_count": 21,
   "id": "52c5d1a9",
   "metadata": {},
   "outputs": [
    {
     "name": "stdout",
     "output_type": "stream",
     "text": [
      "0        Bob\n",
      "1      Billy\n",
      "2    Roweena\n",
      "Name: Name, dtype: object\n"
     ]
    }
   ],
   "source": [
    "print(students['Name'])"
   ]
  },
  {
   "cell_type": "markdown",
   "id": "4182b638",
   "metadata": {},
   "source": [
    "4. **DataFrame Operations:**"
   ]
  },
  {
   "cell_type": "markdown",
   "id": "35068080",
   "metadata": {},
   "source": [
    "Add a new column to the `students` DataFrame named `Graduated`, which should be `True` if the student's grade is 'A' and `False` otherwise."
   ]
  },
  {
   "cell_type": "markdown",
   "id": "8803f7d8",
   "metadata": {},
   "source": [
    "Print the updated DataFrame."
   ]
  },
  {
   "cell_type": "code",
   "execution_count": 36,
   "id": "28c82666",
   "metadata": {},
   "outputs": [
    {
     "data": {
      "text/html": [
       "<div>\n",
       "<style scoped>\n",
       "    .dataframe tbody tr th:only-of-type {\n",
       "        vertical-align: middle;\n",
       "    }\n",
       "\n",
       "    .dataframe tbody tr th {\n",
       "        vertical-align: top;\n",
       "    }\n",
       "\n",
       "    .dataframe thead th {\n",
       "        text-align: right;\n",
       "    }\n",
       "</style>\n",
       "<table border=\"1\" class=\"dataframe\">\n",
       "  <thead>\n",
       "    <tr style=\"text-align: right;\">\n",
       "      <th></th>\n",
       "      <th>Name</th>\n",
       "      <th>Age</th>\n",
       "      <th>Grade</th>\n",
       "      <th>Graduated</th>\n",
       "    </tr>\n",
       "  </thead>\n",
       "  <tbody>\n",
       "    <tr>\n",
       "      <th>0</th>\n",
       "      <td>Bob</td>\n",
       "      <td>15</td>\n",
       "      <td>A</td>\n",
       "      <td>True</td>\n",
       "    </tr>\n",
       "    <tr>\n",
       "      <th>1</th>\n",
       "      <td>Billy</td>\n",
       "      <td>16</td>\n",
       "      <td>C</td>\n",
       "      <td>False</td>\n",
       "    </tr>\n",
       "    <tr>\n",
       "      <th>2</th>\n",
       "      <td>Roweena</td>\n",
       "      <td>18</td>\n",
       "      <td>B</td>\n",
       "      <td>False</td>\n",
       "    </tr>\n",
       "  </tbody>\n",
       "</table>\n",
       "</div>"
      ],
      "text/plain": [
       "      Name  Age Grade  Graduated\n",
       "0      Bob   15     A       True\n",
       "1    Billy   16     C      False\n",
       "2  Roweena   18     B      False"
      ]
     },
     "execution_count": 36,
     "metadata": {},
     "output_type": "execute_result"
    }
   ],
   "source": [
    "grad = [True, False, False]\n",
    "students = pd.DataFrame({\"Name\": name, \"Age\": age, \"Grade\": grade, \"Graduated\": grad})\n",
    "students"
   ]
  },
  {
   "cell_type": "markdown",
   "id": "93bb8ef0",
   "metadata": {},
   "source": [
    "5. **Maths:**"
   ]
  },
  {
   "cell_type": "markdown",
   "id": "ebf5a87f",
   "metadata": {},
   "source": [
    "Calculate and print the average age of the students."
   ]
  },
  {
   "cell_type": "code",
   "execution_count": 37,
   "id": "fe7e1875",
   "metadata": {},
   "outputs": [
    {
     "name": "stdout",
     "output_type": "stream",
     "text": [
      "16.333333333333332\n"
     ]
    }
   ],
   "source": [
    "print(students[\"Age\"].mean())"
   ]
  },
  {
   "cell_type": "markdown",
   "id": "3f5294bf",
   "metadata": {},
   "source": [
    "6. **Sorting:**"
   ]
  },
  {
   "cell_type": "markdown",
   "id": "bc048a60",
   "metadata": {},
   "source": [
    "Sort the `students` DataFrame based on the `Age` column in descending order and print it."
   ]
  },
  {
   "cell_type": "code",
   "execution_count": 41,
   "id": "24280bb7",
   "metadata": {
    "scrolled": true
   },
   "outputs": [
    {
     "data": {
      "text/html": [
       "<div>\n",
       "<style scoped>\n",
       "    .dataframe tbody tr th:only-of-type {\n",
       "        vertical-align: middle;\n",
       "    }\n",
       "\n",
       "    .dataframe tbody tr th {\n",
       "        vertical-align: top;\n",
       "    }\n",
       "\n",
       "    .dataframe thead th {\n",
       "        text-align: right;\n",
       "    }\n",
       "</style>\n",
       "<table border=\"1\" class=\"dataframe\">\n",
       "  <thead>\n",
       "    <tr style=\"text-align: right;\">\n",
       "      <th></th>\n",
       "      <th>Name</th>\n",
       "      <th>Age</th>\n",
       "      <th>Grade</th>\n",
       "      <th>Graduated</th>\n",
       "    </tr>\n",
       "  </thead>\n",
       "  <tbody>\n",
       "    <tr>\n",
       "      <th>0</th>\n",
       "      <td>Bob</td>\n",
       "      <td>15</td>\n",
       "      <td>A</td>\n",
       "      <td>True</td>\n",
       "    </tr>\n",
       "    <tr>\n",
       "      <th>1</th>\n",
       "      <td>Billy</td>\n",
       "      <td>16</td>\n",
       "      <td>C</td>\n",
       "      <td>False</td>\n",
       "    </tr>\n",
       "    <tr>\n",
       "      <th>2</th>\n",
       "      <td>Roweena</td>\n",
       "      <td>18</td>\n",
       "      <td>B</td>\n",
       "      <td>False</td>\n",
       "    </tr>\n",
       "  </tbody>\n",
       "</table>\n",
       "</div>"
      ],
      "text/plain": [
       "      Name  Age Grade  Graduated\n",
       "0      Bob   15     A       True\n",
       "1    Billy   16     C      False\n",
       "2  Roweena   18     B      False"
      ]
     },
     "execution_count": 41,
     "metadata": {},
     "output_type": "execute_result"
    }
   ],
   "source": [
    "students.sort_values(\"Age\")"
   ]
  },
  {
   "cell_type": "markdown",
   "id": "041d4992",
   "metadata": {},
   "source": [
    "7. **Tidy Data**."
   ]
  },
  {
   "cell_type": "markdown",
   "id": "3e5e21ac",
   "metadata": {},
   "source": [
    "Re-make the cognitive health data frame from class so it is \"tidy\", with each column as variable and each row an observation."
   ]
  },
  {
   "cell_type": "code",
   "execution_count": 66,
   "id": "03d93e35",
   "metadata": {},
   "outputs": [
    {
     "data": {
      "text/html": [
       "<div>\n",
       "<style scoped>\n",
       "    .dataframe tbody tr th:only-of-type {\n",
       "        vertical-align: middle;\n",
       "    }\n",
       "\n",
       "    .dataframe tbody tr th {\n",
       "        vertical-align: top;\n",
       "    }\n",
       "\n",
       "    .dataframe thead th {\n",
       "        text-align: right;\n",
       "    }\n",
       "</style>\n",
       "<table border=\"1\" class=\"dataframe\">\n",
       "  <thead>\n",
       "    <tr style=\"text-align: right;\">\n",
       "      <th></th>\n",
       "      <th>Participant ID</th>\n",
       "      <th>Happyness</th>\n",
       "      <th>Language</th>\n",
       "      <th>Energy</th>\n",
       "      <th>Memory</th>\n",
       "    </tr>\n",
       "  </thead>\n",
       "  <tbody>\n",
       "    <tr>\n",
       "      <th>0</th>\n",
       "      <td>1</td>\n",
       "      <td>10</td>\n",
       "      <td>2</td>\n",
       "      <td>5</td>\n",
       "      <td>3</td>\n",
       "    </tr>\n",
       "    <tr>\n",
       "      <th>1</th>\n",
       "      <td>2</td>\n",
       "      <td>15</td>\n",
       "      <td>4</td>\n",
       "      <td>9</td>\n",
       "      <td>6</td>\n",
       "    </tr>\n",
       "    <tr>\n",
       "      <th>2</th>\n",
       "      <td>3</td>\n",
       "      <td>18</td>\n",
       "      <td>7</td>\n",
       "      <td>12</td>\n",
       "      <td>9</td>\n",
       "    </tr>\n",
       "    <tr>\n",
       "      <th>3</th>\n",
       "      <td>4</td>\n",
       "      <td>13</td>\n",
       "      <td>2</td>\n",
       "      <td>7</td>\n",
       "      <td>4</td>\n",
       "    </tr>\n",
       "  </tbody>\n",
       "</table>\n",
       "</div>"
      ],
      "text/plain": [
       "   Participant ID  Happyness  Language  Energy  Memory\n",
       "0               1         10         2       5       3\n",
       "1               2         15         4       9       6\n",
       "2               3         18         7      12       9\n",
       "3               4         13         2       7       4"
      ]
     },
     "execution_count": 66,
     "metadata": {},
     "output_type": "execute_result"
    }
   ],
   "source": [
    "happyness_scores = [10, 15, 15+3, 15-2]\n",
    "language_scores = [2, 4, 4+3, 4-2]\n",
    "energy_scores = [5, 9, 9+3, 9-2]\n",
    "memory_scores = [3, 6, 6+3, 6-2]\n",
    "participant_id = [1, 2, 3, 4]\n",
    "tidy_cog_health = pd.DataFrame({\"Participant ID\": participant_id, \"Happyness\": happyness_scores, \"Language\": language_scores, \"Energy\": energy_scores, \"Memory\": memory_scores})\n",
    "tidy_cog_health"
   ]
  },
  {
   "cell_type": "markdown",
   "id": "65e0c9b7",
   "metadata": {},
   "source": [
    "Compute the mean and standard deviation of all variables."
   ]
  },
  {
   "cell_type": "code",
   "execution_count": 67,
   "id": "7a871909",
   "metadata": {},
   "outputs": [
    {
     "name": "stdout",
     "output_type": "stream",
     "text": [
      "Mean of all variables:\n",
      "Participant ID     2.50\n",
      "Happyness         14.00\n",
      "Language           3.75\n",
      "Energy             8.25\n",
      "Memory             5.50\n",
      "dtype: float64\n",
      "Standard deviation of all variables:\n",
      "Participant ID    1.290994\n",
      "Happyness         3.366502\n",
      "Language          2.362908\n",
      "Energy            2.986079\n",
      "Memory            2.645751\n",
      "dtype: float64\n"
     ]
    }
   ],
   "source": [
    "mean_cog = tidy_cog_health.mean()\n",
    "std_cog = tidy_cog_health.std()\n",
    "print(\"Mean of all variables:\")\n",
    "print(mean_cog)\n",
    "print(\"Standard deviation of all variables:\")\n",
    "print(std_cog)"
   ]
  },
  {
   "cell_type": "markdown",
   "id": "a4c7577f",
   "metadata": {},
   "source": [
    "Compute the mean and standard error for the happiness variable (there might even be a method for computing standard error...)."
   ]
  },
  {
   "cell_type": "code",
   "execution_count": 70,
   "id": "84008144",
   "metadata": {},
   "outputs": [
    {
     "name": "stdout",
     "output_type": "stream",
     "text": [
      "Mean Happyness Score:\n",
      "14.0\n",
      "Standard Deviation of Happyness Score:\n",
      "3.366501646120693\n",
      "Standard Error of Happyness Score:\n",
      "1.6832508230603465\n"
     ]
    }
   ],
   "source": [
    "mean_happy = tidy_cog_health[\"Happyness\"].mean()\n",
    "std_happy = tidy_cog_health[\"Happyness\"].std()\n",
    "ste_happy = tidy_cog_health[\"Happyness\"].sem()\n",
    "print(\"Mean Happyness Score:\")\n",
    "print(mean_happy)\n",
    "print(\"Standard Deviation of Happyness Score:\")\n",
    "print(std_happy)\n",
    "print(\"Standard Error of Happyness Score:\")\n",
    "print(ste_happy)"
   ]
  }
 ],
 "metadata": {
  "kernelspec": {
   "display_name": "Python 3 (ipykernel)",
   "language": "python",
   "name": "python3"
  },
  "language_info": {
   "codemirror_mode": {
    "name": "ipython",
    "version": 3
   },
   "file_extension": ".py",
   "mimetype": "text/x-python",
   "name": "python",
   "nbconvert_exporter": "python",
   "pygments_lexer": "ipython3",
   "version": "3.11.4"
  }
 },
 "nbformat": 4,
 "nbformat_minor": 5
}
