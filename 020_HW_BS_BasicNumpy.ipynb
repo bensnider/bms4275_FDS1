{
 "cells": [
  {
   "cell_type": "markdown",
   "id": "17bb8f8f",
   "metadata": {},
   "source": [
    "### NumPy Basics Homework Assignment ###"
   ]
  },
  {
   "cell_type": "markdown",
   "id": "b68838a6",
   "metadata": {},
   "source": [
    "**Instructions**: As usual, make a Jupyter Notebook and do the homework in that. Also, the [NumPy beginner's guide](https://numpy.org/doc/stable/user/absolute_beginners.html) is quite good, so make friends with it."
   ]
  },
  {
   "cell_type": "markdown",
   "id": "5367e2a7",
   "metadata": {},
   "source": [
    "1. **Array Creation**:"
   ]
  },
  {
   "cell_type": "markdown",
   "id": "aab279fa",
   "metadata": {},
   "source": [
    "a. Create a 1D array containing numbers from 0 to 9."
   ]
  },
  {
   "cell_type": "code",
   "execution_count": 17,
   "id": "d9789bca",
   "metadata": {},
   "outputs": [
    {
     "data": {
      "text/plain": [
       "array([0, 1, 2, 3, 4, 5, 6, 7, 8, 9])"
      ]
     },
     "execution_count": 17,
     "metadata": {},
     "output_type": "execute_result"
    }
   ],
   "source": [
    "import numpy as np\n",
    "num_array = np.array([0, 1, 2, 3, 4, 5, 6, 7, 8, 9])\n",
    "num_array"
   ]
  },
  {
   "cell_type": "markdown",
   "id": "4d044e6c",
   "metadata": {},
   "source": [
    "b. Create a 3x3 matrix with numbers from 1 to 9."
   ]
  },
  {
   "cell_type": "code",
   "execution_count": 18,
   "id": "fe67a967",
   "metadata": {
    "scrolled": true
   },
   "outputs": [
    {
     "data": {
      "text/plain": [
       "array([[1, 2, 3],\n",
       "       [4, 5, 6],\n",
       "       [7, 8, 9]])"
      ]
     },
     "execution_count": 18,
     "metadata": {},
     "output_type": "execute_result"
    }
   ],
   "source": [
    "axis_array = np.array([[1,2,3], [4,5,6], [7,8,9]])\n",
    "axis_array"
   ]
  },
  {
   "cell_type": "markdown",
   "id": "7bf694b9",
   "metadata": {},
   "source": [
    "c. Generate a 1D array of 10 random integers between 50 and 100."
   ]
  },
  {
   "cell_type": "code",
   "execution_count": 19,
   "id": "2d8f4ed6",
   "metadata": {},
   "outputs": [
    {
     "data": {
      "text/plain": [
       "array([71, 77, 92, 95, 52, 61, 63, 75, 97, 80], dtype=int64)"
      ]
     },
     "execution_count": 19,
     "metadata": {},
     "output_type": "execute_result"
    }
   ],
   "source": [
    "rng = np.random.default_rng()\n",
    "rand50_100 = rng.integers (50, high = 101, size = 10)\n",
    "rand50_100"
   ]
  },
  {
   "cell_type": "markdown",
   "id": "794f84f1",
   "metadata": {},
   "source": [
    "d. Create a 3x4 matrix of random floating-point numbers between 0 and 1."
   ]
  },
  {
   "cell_type": "code",
   "execution_count": 20,
   "id": "62f97a90",
   "metadata": {},
   "outputs": [
    {
     "data": {
      "text/plain": [
       "array([[0.27974388, 0.64003023, 0.91797355, 0.7610832 ],\n",
       "       [0.84487768, 0.87625638, 0.5596033 , 0.79172185],\n",
       "       [0.04606297, 0.61470137, 0.82091957, 0.35015056]])"
      ]
     },
     "execution_count": 20,
     "metadata": {},
     "output_type": "execute_result"
    }
   ],
   "source": [
    "rand_matrix = rng.random((3,4))\n",
    "rand_matrix"
   ]
  },
  {
   "cell_type": "markdown",
   "id": "62eda37c",
   "metadata": {},
   "source": [
    "2. **Array Indexing**:"
   ]
  },
  {
   "cell_type": "markdown",
   "id": "87e3b1fc",
   "metadata": {},
   "source": [
    "a. From the 1D array created in 1a, extract all even numbers."
   ]
  },
  {
   "cell_type": "code",
   "execution_count": 21,
   "id": "5da31644",
   "metadata": {},
   "outputs": [
    {
     "data": {
      "text/plain": [
       "array([0, 2, 4, 6, 8])"
      ]
     },
     "execution_count": 21,
     "metadata": {},
     "output_type": "execute_result"
    }
   ],
   "source": [
    "num_array[::2]"
   ]
  },
  {
   "cell_type": "markdown",
   "id": "51e60600",
   "metadata": {},
   "source": [
    "b. From the 3x3 matrix created in 1b, extract the second row."
   ]
  },
  {
   "cell_type": "code",
   "execution_count": 22,
   "id": "ab602ec8",
   "metadata": {},
   "outputs": [
    {
     "data": {
      "text/plain": [
       "array([4, 5, 6])"
      ]
     },
     "execution_count": 22,
     "metadata": {},
     "output_type": "execute_result"
    }
   ],
   "source": [
    "axis_array[1]"
   ]
  },
  {
   "cell_type": "markdown",
   "id": "a54478c4",
   "metadata": {},
   "source": [
    "c. From the 3x3 matrix, extract the element at the third row and second column."
   ]
  },
  {
   "cell_type": "code",
   "execution_count": 23,
   "id": "e73ab10a",
   "metadata": {},
   "outputs": [
    {
     "data": {
      "text/plain": [
       "8"
      ]
     },
     "execution_count": 23,
     "metadata": {},
     "output_type": "execute_result"
    }
   ],
   "source": [
    "axis_array[2,1]"
   ]
  },
  {
   "cell_type": "markdown",
   "id": "a3ca3306",
   "metadata": {},
   "source": [
    "d. From the 3x4 matrix created in 1d, extract all elements greater than 0.5."
   ]
  },
  {
   "cell_type": "code",
   "execution_count": 24,
   "id": "b9d6a55b",
   "metadata": {
    "scrolled": true
   },
   "outputs": [
    {
     "data": {
      "text/plain": [
       "array([0.64003023, 0.91797355, 0.7610832 , 0.84487768, 0.87625638,\n",
       "       0.5596033 , 0.79172185, 0.61470137, 0.82091957])"
      ]
     },
     "execution_count": 24,
     "metadata": {},
     "output_type": "execute_result"
    }
   ],
   "source": [
    "rand_matrix_greater = np.extract(rand_matrix > 0.5, rand_matrix)\n",
    "rand_matrix_greater"
   ]
  },
  {
   "cell_type": "markdown",
   "id": "54370a74",
   "metadata": {},
   "source": [
    "3. **Basic Math Operations**:"
   ]
  },
  {
   "cell_type": "markdown",
   "id": "9c7080c4",
   "metadata": {},
   "source": [
    "a. Create two arrays `A` and `B` of shape (4, 4) with random integers between 1 and 10. Compute the element-wise sum and product."
   ]
  },
  {
   "cell_type": "code",
   "execution_count": 25,
   "id": "a881a427",
   "metadata": {},
   "outputs": [
    {
     "data": {
      "text/plain": [
       "array([[35, 12,  4, 27],\n",
       "       [56, 30, 20, 21],\n",
       "       [ 7,  2, 14,  8],\n",
       "       [32,  5, 56, 56]], dtype=int64)"
      ]
     },
     "execution_count": 25,
     "metadata": {},
     "output_type": "execute_result"
    }
   ],
   "source": [
    "A_one = rng.integers (1, high = 10, size = 4)\n",
    "A_two = rng.integers (1, high = 10, size = 4)\n",
    "A_three = rng.integers (1, high = 10, size = 4)\n",
    "A_four = rng.integers (1, high = 10, size = 4)\n",
    "array_A = np.array([A_one, A_two, A_three, A_four])\n",
    "B_one = rng.integers (1, high = 10, size = 4)\n",
    "B_two = rng.integers (1, high = 10, size = 4)\n",
    "B_three = rng.integers (1, high = 10, size = 4)\n",
    "B_four = rng.integers (1, high = 10, size = 4)\n",
    "array_B = np.array([B_one, B_two, B_three, B_four])\n",
    "array_A * array_B"
   ]
  },
  {
   "cell_type": "code",
   "execution_count": 26,
   "id": "e7982964",
   "metadata": {},
   "outputs": [
    {
     "data": {
      "text/plain": [
       "array([[12,  8,  4, 12],\n",
       "       [15, 11,  9, 10],\n",
       "       [ 8,  3,  9,  6],\n",
       "       [12,  6, 15, 15]], dtype=int64)"
      ]
     },
     "execution_count": 26,
     "metadata": {},
     "output_type": "execute_result"
    }
   ],
   "source": [
    "array_A + array_B"
   ]
  },
  {
   "cell_type": "markdown",
   "id": "59779c07",
   "metadata": {},
   "source": [
    "b. Multiply the 1D array created in 1a by 5."
   ]
  },
  {
   "cell_type": "code",
   "execution_count": 27,
   "id": "3d375bde",
   "metadata": {},
   "outputs": [
    {
     "data": {
      "text/plain": [
       "array([ 0,  5, 10, 15, 20, 25, 30, 35, 40, 45])"
      ]
     },
     "execution_count": 27,
     "metadata": {},
     "output_type": "execute_result"
    }
   ],
   "source": [
    "num_array * 5"
   ]
  },
  {
   "cell_type": "markdown",
   "id": "6218e651",
   "metadata": {},
   "source": [
    "c. Subtract the mean of the 1D array created in 1a from each of its elements."
   ]
  },
  {
   "cell_type": "code",
   "execution_count": 28,
   "id": "58b26649",
   "metadata": {},
   "outputs": [
    {
     "data": {
      "text/plain": [
       "array([-4.5, -3.5, -2.5, -1.5, -0.5,  0.5,  1.5,  2.5,  3.5,  4.5])"
      ]
     },
     "execution_count": 28,
     "metadata": {},
     "output_type": "execute_result"
    }
   ],
   "source": [
    "num_array_mean = num_array.mean()\n",
    "num_array - num_array_mean"
   ]
  },
  {
   "cell_type": "markdown",
   "id": "830b337c",
   "metadata": {},
   "source": [
    "4. **Basic Statistical Calculations**:"
   ]
  },
  {
   "cell_type": "markdown",
   "id": "9fbc673f",
   "metadata": {},
   "source": [
    "a. Compute the mean, median, and standard deviation of the 1D array from 1a."
   ]
  },
  {
   "cell_type": "code",
   "execution_count": 29,
   "id": "5ec1cb1b",
   "metadata": {},
   "outputs": [
    {
     "name": "stdout",
     "output_type": "stream",
     "text": [
      "The mean is 4.5\n",
      "The std is 2.8722813232690143\n",
      "The median is 4.5\n"
     ]
    }
   ],
   "source": [
    "num_array_mean = np.mean(num_array)\n",
    "num_array_median = np.median(num_array)\n",
    "num_array_std = np.std(num_array)\n",
    "print(\"The mean is\", num_array_mean)\n",
    "print(\"The std is\", num_array_std)\n",
    "print(\"The median is\", num_array_median)"
   ]
  },
  {
   "cell_type": "markdown",
   "id": "6ed52eca",
   "metadata": {},
   "source": [
    "b. Find the minimum and maximum values of the 3x4 matrix created in 1d."
   ]
  },
  {
   "cell_type": "code",
   "execution_count": 30,
   "id": "1aa0dc7d",
   "metadata": {
    "scrolled": true
   },
   "outputs": [
    {
     "name": "stdout",
     "output_type": "stream",
     "text": [
      "The minimum value is 0.04606297454421282\n",
      "The maximum value is 0.9179735453201819\n"
     ]
    }
   ],
   "source": [
    "rand_matrix_min = np.min(rand_matrix)\n",
    "rand_matrix_max = np.max(rand_matrix)\n",
    "print(\"The minimum value is\", rand_matrix_min)\n",
    "print(\"The maximum value is\", rand_matrix_max)"
   ]
  },
  {
   "cell_type": "markdown",
   "id": "fa53d607",
   "metadata": {},
   "source": [
    "c. Find the position (index) of the minimum and maximum values in the 1D array created in 1c."
   ]
  },
  {
   "cell_type": "code",
   "execution_count": 31,
   "id": "228a7852",
   "metadata": {
    "scrolled": true
   },
   "outputs": [
    {
     "name": "stdout",
     "output_type": "stream",
     "text": [
      "The maximum value occurs in index position: 8\n",
      "The minimum value occurs in index position: 4\n"
     ]
    }
   ],
   "source": [
    "rand50_100_max_index = np.ndarray.argmax(rand50_100)\n",
    "rand50_100_min_index = np.ndarray.argmin(rand50_100)\n",
    "print(\"The maximum value occurs in index position:\", rand50_100_max_index)\n",
    "print(\"The minimum value occurs in index position:\", rand50_100_min_index)"
   ]
  },
  {
   "cell_type": "markdown",
   "id": "386b53a2",
   "metadata": {},
   "source": [
    "5. **Bonus (Optional)**:"
   ]
  },
  {
   "cell_type": "markdown",
   "id": "4f3e4369",
   "metadata": {},
   "source": [
    "a. Compute the dot product of two 1D arrays of length 5. Remember, the dot product is the sum of the products of corresponding entries of the two sequences of numbers."
   ]
  },
  {
   "cell_type": "code",
   "execution_count": 32,
   "id": "2f6de11a",
   "metadata": {},
   "outputs": [
    {
     "data": {
      "text/plain": [
       "110"
      ]
     },
     "execution_count": 32,
     "metadata": {},
     "output_type": "execute_result"
    }
   ],
   "source": [
    "array_one = np.array([1, 2, 3, 4, 5])\n",
    "array_two = np.array([1, 2, 3, 4, 5])\n",
    "sum((array_one*array_two) + (array_one*array_two))"
   ]
  },
  {
   "cell_type": "markdown",
   "id": "5eb59e05",
   "metadata": {},
   "source": [
    "b. Reshape the 3x3 matrix from 1b into a 1D array of length 9."
   ]
  },
  {
   "cell_type": "code",
   "execution_count": 33,
   "id": "805baad3",
   "metadata": {},
   "outputs": [
    {
     "data": {
      "text/plain": [
       "array([[1, 2, 3, 4, 5, 6, 7, 8, 9]])"
      ]
     },
     "execution_count": 33,
     "metadata": {},
     "output_type": "execute_result"
    }
   ],
   "source": [
    "axis_array.reshape(1,9)"
   ]
  }
 ],
 "metadata": {
  "kernelspec": {
   "display_name": "Python 3 (ipykernel)",
   "language": "python",
   "name": "python3"
  },
  "language_info": {
   "codemirror_mode": {
    "name": "ipython",
    "version": 3
   },
   "file_extension": ".py",
   "mimetype": "text/x-python",
   "name": "python",
   "nbconvert_exporter": "python",
   "pygments_lexer": "ipython3",
   "version": "3.11.4"
  }
 },
 "nbformat": 4,
 "nbformat_minor": 5
}
