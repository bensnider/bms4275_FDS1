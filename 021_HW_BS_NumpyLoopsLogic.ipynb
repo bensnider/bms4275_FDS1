{
 "cells": [
  {
   "cell_type": "markdown",
   "id": "15b39757",
   "metadata": {},
   "source": [
    "**Homework: Loops and Logical Testing with NumPy**\n",
    "\n",
    "**Objective:** To understand and implement for loops, while loops, and logical testing with NumPy arrays.\n",
    "\n",
    "---\n",
    "\n",
    "**Problem 1: Basic Array Element Comparisons**\n",
    "\n",
    "Given the following NumPy array:\n",
    "```python\n",
    "import numpy as np\n",
    "arr = np.array([2, 5, 8, 10, 3, 6, 7])\n",
    "```\n",
    "\n",
    "Write a Python script that checks and prints which elements of the array are even.\n",
    "\n",
    "---"
   ]
  },
  {
   "cell_type": "code",
   "execution_count": 1,
   "id": "9753783a",
   "metadata": {},
   "outputs": [],
   "source": [
    "import numpy as np\n",
    "arr = np.array([2, 5, 8, 10, 3, 6, 7])"
   ]
  },
  {
   "cell_type": "code",
   "execution_count": 2,
   "id": "a32d2ff8",
   "metadata": {},
   "outputs": [
    {
     "name": "stdout",
     "output_type": "stream",
     "text": [
      "[2, 8, 10, 6]\n"
     ]
    }
   ],
   "source": [
    "new_array = []\n",
    "for i in arr :\n",
    "    if i%2 == 0 :\n",
    "        new_array.append(i)\n",
    "print(new_array)"
   ]
  },
  {
   "cell_type": "markdown",
   "id": "f1af18a4",
   "metadata": {},
   "source": [
    "**Problem 2: Find Prime Array Elements**\n",
    "\n",
    "Given a 1D NumPy integer array of arbitrary length, write a Python script that checks to see which elements are prime numbers, and builds a corresponding `True`/`False` array.\n",
    "\n",
    "Pro Tip: Write a function to check if a single input number is prime, then call that function from within the `for()` loop used to iterate over the vector. This function will also contain a loop.\n",
    "\n",
    "---"
   ]
  },
  {
   "cell_type": "code",
   "execution_count": 3,
   "id": "95ef8004",
   "metadata": {},
   "outputs": [],
   "source": [
    "def check_prime(num) :\n",
    "    if num > 1 :\n",
    "        for i in range(2, int(num/2)+1) :\n",
    "            if (num % i) == 0 :\n",
    "                return False\n",
    "                break\n",
    "        else:\n",
    "            return True\n",
    "    else:\n",
    "        return False"
   ]
  },
  {
   "cell_type": "code",
   "execution_count": 4,
   "id": "76b77fab",
   "metadata": {},
   "outputs": [
    {
     "name": "stdout",
     "output_type": "stream",
     "text": [
      "[False  True  True False  True False  True False False False]\n"
     ]
    }
   ],
   "source": [
    "array = np.array([1, 2, 3, 4, 5, 6, 7, 8, 9, 10])\n",
    "tf_array = np.zeros(len(array), dtype=bool)\n",
    "for i in range(1,len(array)) :\n",
    "    if check_prime(array[i]) == True :\n",
    "        tf_array[i] = True\n",
    "print(tf_array)"
   ]
  },
  {
   "cell_type": "markdown",
   "id": "5520e2d5",
   "metadata": {},
   "source": [
    "**Problem 3: Nested For Loops with 2D Arrays**\n",
    "\n",
    "Suppose you have a 1D NumPy array `a` of shape `n x n`, initialized with zeros:\n",
    "\n",
    "```python\n",
    "import numpy as np\n",
    "n = 10\n",
    "a = np.zeros((n,n), dtype=int)\n",
    "```\n",
    "\n",
    "Write a Python script that fills this array with numbers from the Fibonacci sequence such that:\n",
    "\n",
    "1. The Fibonacci sequence *starting with 0* runs across the first row.\n",
    "2. Fibonacci sequences run down each column *starting with the number in the first row*.\n",
    "\n",
    "Print the matrix.\n",
    "\n",
    "Recall that the Fibonacci sequence starts with the numbers 0 and 1, and each subsequent number is the sum of the two preceding ones:\n",
    "\n",
    "---"
   ]
  },
  {
   "cell_type": "code",
   "execution_count": 404,
   "id": "25c0c85b",
   "metadata": {
    "scrolled": true
   },
   "outputs": [
    {
     "data": {
      "text/plain": [
       "array([[   0,    1,    1,    2,    3,    5,    8,   13,   21,   34],\n",
       "       [   1,    1,    2,    3,    5,    8,   13,   21,   34,   55],\n",
       "       [   1,    2,    3,    5,    8,   13,   21,   34,   55,   89],\n",
       "       [   2,    3,    5,    8,   13,   21,   34,   55,   89,  144],\n",
       "       [   3,    5,    8,   13,   21,   34,   55,   89,  144,  233],\n",
       "       [   5,    8,   13,   21,   34,   55,   89,  144,  233,  377],\n",
       "       [   8,   13,   21,   34,   55,   89,  144,  233,  377,  610],\n",
       "       [  13,   21,   34,   55,   89,  144,  233,  377,  610,  987],\n",
       "       [  21,   34,   55,   89,  144,  233,  377,  610,  987, 1597],\n",
       "       [  34,   55,   89,  144,  233,  377,  610,  987, 1597, 2584]])"
      ]
     },
     "execution_count": 404,
     "metadata": {},
     "output_type": "execute_result"
    }
   ],
   "source": [
    "import numpy as np\n",
    "n = 10\n",
    "a = np.zeros((n,n), dtype=int)\n",
    "def print_fibonacci(n, start=0, next_num=1) :\n",
    "    fibNumbers = [start,next_num]\n",
    "    previous_two = start\n",
    "    previous_one = next_num\n",
    "    for i in range(n-2) :\n",
    "        new = previous_two + previous_one\n",
    "        previous_two=previous_one\n",
    "        previous_one=new\n",
    "        fibNumbers.append(new)\n",
    "    return fibNumbers\n",
    "for i in range(n) :\n",
    "    reference = print_fibonacci(n*n)\n",
    "    a[:,i] = print_fibonacci(n, start = reference[i], next_num = reference[i+1])\n",
    "a"
   ]
  },
  {
   "cell_type": "markdown",
   "id": "e920467b",
   "metadata": {},
   "source": [
    "**Problem 4: While Loop Within a For Loop**\n",
    "\n",
    "Given a list of NumPy arrays:\n",
    "```python\n",
    "arrays_list = [np.array([10, 20, 30, 40, 50]), np.array([5, 15, 25]), np.array([1, 2, 3, 4, 5, 6, 7, 8, 9])]\n",
    "```\n",
    "\n",
    "Write a Python script that:\n",
    "1. Iterates over each array in the list using a for loop.\n",
    "2. For each array, starts at the first element and sums consecutive elements using a while loop until the sum is greater than or equal to 50. The script should print the sum and the index where it stopped for each array.\n",
    "\n",
    "---"
   ]
  },
  {
   "cell_type": "code",
   "execution_count": 358,
   "id": "a7a187f2",
   "metadata": {},
   "outputs": [
    {
     "name": "stdout",
     "output_type": "stream",
     "text": [
      "Array 1: Sum = 60, Stopped at index = 3\n",
      "Array 2: Sum = 45, Stopped at index = 3\n",
      "Array 3: Sum = 45, Stopped at index = 9\n"
     ]
    }
   ],
   "source": [
    "arrays_list = [np.array([10, 20, 30, 40, 50]), np.array([5, 15, 25]), np.array([1, 2, 3, 4, 5, 6, 7, 8, 9])]\n",
    "\n",
    "for i, array in enumerate(arrays_list):\n",
    "    current_sum = 0\n",
    "    index = 0\n",
    "    while index < len(array) and current_sum < 50:\n",
    "        current_sum = current_sum + array[index]\n",
    "        index = index + 1\n",
    "    print(f\"Array {i + 1}: Sum = {current_sum}, Stopped at index = {index}\")"
   ]
  },
  {
   "cell_type": "markdown",
   "id": "779a03bc",
   "metadata": {},
   "source": [
    "**Problem 5: Logical Testing with NumPy**\n",
    "\n",
    "Given a 2D NumPy array:\n",
    "```python\n",
    "data = np.array([[5, 8, 3], [7, 2, 9], [6, 4, 1]])\n",
    "```\n",
    "\n",
    "Write a Python script that Identifies and prints the location (row and column) of all elements that are greater than 6."
   ]
  },
  {
   "cell_type": "code",
   "execution_count": 11,
   "id": "852e1a69",
   "metadata": {},
   "outputs": [
    {
     "name": "stdout",
     "output_type": "stream",
     "text": [
      "element: 8, row: 0, column: 1\n",
      "element: 7, row: 1, column: 0\n",
      "element: 9, row: 1, column: 2\n"
     ]
    }
   ],
   "source": [
    "data = np.array([[5, 8, 3], [7, 2, 9], [6, 4, 1]])\n",
    "n_cols = 3\n",
    "n_rows = 3\n",
    "for i in range(n_rows) :\n",
    "    for j in range(n_cols) :\n",
    "        current_data = data[i][j]\n",
    "        if current_data > 6 :\n",
    "            print(f'element: {current_data}, row: {i}, column: {j}')"
   ]
  }
 ],
 "metadata": {
  "kernelspec": {
   "display_name": "Python 3 (ipykernel)",
   "language": "python",
   "name": "python3"
  },
  "language_info": {
   "codemirror_mode": {
    "name": "ipython",
    "version": 3
   },
   "file_extension": ".py",
   "mimetype": "text/x-python",
   "name": "python",
   "nbconvert_exporter": "python",
   "pygments_lexer": "ipython3",
   "version": "3.11.4"
  }
 },
 "nbformat": 4,
 "nbformat_minor": 5
}
